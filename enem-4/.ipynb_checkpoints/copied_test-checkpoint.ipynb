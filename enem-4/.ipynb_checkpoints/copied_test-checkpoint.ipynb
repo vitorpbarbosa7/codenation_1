{
 "cells": [
  {
   "cell_type": "code",
   "execution_count": 1,
   "metadata": {},
   "outputs": [],
   "source": [
    "import pandas as pd\n",
    "import seaborn as sns\n",
    "import numpy as np\n",
    "import matplotlib.pyplot as plt\n",
    "from sklearn.preprocessing import StandardScaler\n",
    "from sklearn.ensemble import BaggingClassifier, RandomForestClassifier\n",
    "from sklearn.tree import DecisionTreeClassifier\n",
    "from sklearn.naive_bayes import GaussianNB\n",
    "from sklearn.metrics import confusion_matrix, accuracy_score, precision_score, recall_score\n",
    "from sklearn.model_selection import train_test_split\n",
    "from sklearn.linear_model import LogisticRegression"
   ]
  },
  {
   "cell_type": "markdown",
   "metadata": {},
   "source": [
    "* Importando as bibliotecas necessárias para a resolução do desafio. "
   ]
  },
  {
   "cell_type": "code",
   "execution_count": 2,
   "metadata": {},
   "outputs": [],
   "source": [
    "from IPython.core.pylabtools import figsize\n",
    "\n",
    "figsize(12, 9)\n",
    "\n",
    "sns.set()"
   ]
  },
  {
   "cell_type": "markdown",
   "metadata": {},
   "source": [
    "* Padronizando o tamanho de eventuais gráficos que eu venha traçar. "
   ]
  },
  {
   "cell_type": "code",
   "execution_count": 3,
   "metadata": {},
   "outputs": [],
   "source": [
    "df_train = pd.read_csv('train.csv')\n",
    "df_test = pd.read_csv('test.csv')"
   ]
  },
  {
   "cell_type": "markdown",
   "metadata": {},
   "source": [
    "* Lendo os datasets de treino e teste."
   ]
  },
  {
   "cell_type": "code",
   "execution_count": 4,
   "metadata": {
    "scrolled": true
   },
   "outputs": [
    {
     "name": "stdout",
     "output_type": "stream",
     "text": [
      "Os dados são válidos\n"
     ]
    }
   ],
   "source": [
    "if set(df_test.columns).issubset(set(df_train.columns)):print('Os dados são válidos')"
   ]
  },
  {
   "cell_type": "markdown",
   "metadata": {},
   "source": [
    "* Validando se o dataset de teste faz parte do dataset de treino."
   ]
  },
  {
   "cell_type": "markdown",
   "metadata": {},
   "source": [
    "## Escolhendo as features para o modelo."
   ]
  },
  {
   "cell_type": "code",
   "execution_count": 5,
   "metadata": {
    "scrolled": false
   },
   "outputs": [
    {
     "data": {
      "text/html": [
       "<div>\n",
       "<style scoped>\n",
       "    .dataframe tbody tr th:only-of-type {\n",
       "        vertical-align: middle;\n",
       "    }\n",
       "\n",
       "    .dataframe tbody tr th {\n",
       "        vertical-align: top;\n",
       "    }\n",
       "\n",
       "    .dataframe thead th {\n",
       "        text-align: right;\n",
       "    }\n",
       "</style>\n",
       "<table border=\"1\" class=\"dataframe\">\n",
       "  <thead>\n",
       "    <tr style=\"text-align: right;\">\n",
       "      <th></th>\n",
       "      <th>Unnamed: 0</th>\n",
       "      <th>NU_ANO</th>\n",
       "      <th>CO_MUNICIPIO_RESIDENCIA</th>\n",
       "      <th>CO_UF_RESIDENCIA</th>\n",
       "      <th>NU_IDADE</th>\n",
       "      <th>TP_ESTADO_CIVIL</th>\n",
       "      <th>TP_COR_RACA</th>\n",
       "      <th>TP_NACIONALIDADE</th>\n",
       "      <th>CO_MUNICIPIO_NASCIMENTO</th>\n",
       "      <th>CO_UF_NASCIMENTO</th>\n",
       "      <th>...</th>\n",
       "      <th>Q032</th>\n",
       "      <th>Q033</th>\n",
       "      <th>Q034</th>\n",
       "      <th>Q035</th>\n",
       "      <th>Q036</th>\n",
       "      <th>Q037</th>\n",
       "      <th>Q038</th>\n",
       "      <th>Q039</th>\n",
       "      <th>Q040</th>\n",
       "      <th>Q041</th>\n",
       "    </tr>\n",
       "  </thead>\n",
       "  <tbody>\n",
       "    <tr>\n",
       "      <th>Unnamed: 0</th>\n",
       "      <td>1.000000</td>\n",
       "      <td>NaN</td>\n",
       "      <td>-0.007258</td>\n",
       "      <td>-0.007250</td>\n",
       "      <td>-0.007201</td>\n",
       "      <td>0.003678</td>\n",
       "      <td>0.005707</td>\n",
       "      <td>-0.006217</td>\n",
       "      <td>-0.004527</td>\n",
       "      <td>-0.004615</td>\n",
       "      <td>...</td>\n",
       "      <td>0.001520</td>\n",
       "      <td>0.018074</td>\n",
       "      <td>0.001693</td>\n",
       "      <td>-0.008141</td>\n",
       "      <td>0.002724</td>\n",
       "      <td>-0.004914</td>\n",
       "      <td>0.003906</td>\n",
       "      <td>0.001002</td>\n",
       "      <td>-0.010967</td>\n",
       "      <td>-0.029937</td>\n",
       "    </tr>\n",
       "    <tr>\n",
       "      <th>NU_ANO</th>\n",
       "      <td>NaN</td>\n",
       "      <td>NaN</td>\n",
       "      <td>NaN</td>\n",
       "      <td>NaN</td>\n",
       "      <td>NaN</td>\n",
       "      <td>NaN</td>\n",
       "      <td>NaN</td>\n",
       "      <td>NaN</td>\n",
       "      <td>NaN</td>\n",
       "      <td>NaN</td>\n",
       "      <td>...</td>\n",
       "      <td>NaN</td>\n",
       "      <td>NaN</td>\n",
       "      <td>NaN</td>\n",
       "      <td>NaN</td>\n",
       "      <td>NaN</td>\n",
       "      <td>NaN</td>\n",
       "      <td>NaN</td>\n",
       "      <td>NaN</td>\n",
       "      <td>NaN</td>\n",
       "      <td>NaN</td>\n",
       "    </tr>\n",
       "    <tr>\n",
       "      <th>CO_MUNICIPIO_RESIDENCIA</th>\n",
       "      <td>-0.007258</td>\n",
       "      <td>NaN</td>\n",
       "      <td>1.000000</td>\n",
       "      <td>0.999865</td>\n",
       "      <td>-0.002296</td>\n",
       "      <td>0.020813</td>\n",
       "      <td>-0.236178</td>\n",
       "      <td>0.009710</td>\n",
       "      <td>0.865294</td>\n",
       "      <td>0.865216</td>\n",
       "      <td>...</td>\n",
       "      <td>0.004115</td>\n",
       "      <td>-0.030114</td>\n",
       "      <td>-0.050304</td>\n",
       "      <td>-0.050138</td>\n",
       "      <td>-0.040668</td>\n",
       "      <td>-0.013479</td>\n",
       "      <td>-0.032710</td>\n",
       "      <td>-0.094862</td>\n",
       "      <td>-0.077456</td>\n",
       "      <td>-0.033205</td>\n",
       "    </tr>\n",
       "    <tr>\n",
       "      <th>CO_UF_RESIDENCIA</th>\n",
       "      <td>-0.007250</td>\n",
       "      <td>NaN</td>\n",
       "      <td>0.999865</td>\n",
       "      <td>1.000000</td>\n",
       "      <td>-0.002017</td>\n",
       "      <td>0.020947</td>\n",
       "      <td>-0.234786</td>\n",
       "      <td>0.009433</td>\n",
       "      <td>0.864791</td>\n",
       "      <td>0.864919</td>\n",
       "      <td>...</td>\n",
       "      <td>0.003968</td>\n",
       "      <td>-0.030345</td>\n",
       "      <td>-0.050096</td>\n",
       "      <td>-0.049292</td>\n",
       "      <td>-0.040688</td>\n",
       "      <td>-0.013647</td>\n",
       "      <td>-0.032467</td>\n",
       "      <td>-0.094113</td>\n",
       "      <td>-0.076838</td>\n",
       "      <td>-0.033149</td>\n",
       "    </tr>\n",
       "    <tr>\n",
       "      <th>NU_IDADE</th>\n",
       "      <td>-0.007201</td>\n",
       "      <td>NaN</td>\n",
       "      <td>-0.002296</td>\n",
       "      <td>-0.002017</td>\n",
       "      <td>1.000000</td>\n",
       "      <td>0.533462</td>\n",
       "      <td>0.009675</td>\n",
       "      <td>-0.017713</td>\n",
       "      <td>-0.030711</td>\n",
       "      <td>-0.030259</td>\n",
       "      <td>...</td>\n",
       "      <td>-0.044791</td>\n",
       "      <td>0.025077</td>\n",
       "      <td>-0.030681</td>\n",
       "      <td>0.012739</td>\n",
       "      <td>0.021949</td>\n",
       "      <td>-0.003569</td>\n",
       "      <td>-0.035306</td>\n",
       "      <td>-0.069973</td>\n",
       "      <td>-0.010988</td>\n",
       "      <td>0.160526</td>\n",
       "    </tr>\n",
       "    <tr>\n",
       "      <th>...</th>\n",
       "      <td>...</td>\n",
       "      <td>...</td>\n",
       "      <td>...</td>\n",
       "      <td>...</td>\n",
       "      <td>...</td>\n",
       "      <td>...</td>\n",
       "      <td>...</td>\n",
       "      <td>...</td>\n",
       "      <td>...</td>\n",
       "      <td>...</td>\n",
       "      <td>...</td>\n",
       "      <td>...</td>\n",
       "      <td>...</td>\n",
       "      <td>...</td>\n",
       "      <td>...</td>\n",
       "      <td>...</td>\n",
       "      <td>...</td>\n",
       "      <td>...</td>\n",
       "      <td>...</td>\n",
       "      <td>...</td>\n",
       "      <td>...</td>\n",
       "    </tr>\n",
       "    <tr>\n",
       "      <th>Q037</th>\n",
       "      <td>-0.004914</td>\n",
       "      <td>NaN</td>\n",
       "      <td>-0.013479</td>\n",
       "      <td>-0.013647</td>\n",
       "      <td>-0.003569</td>\n",
       "      <td>0.002294</td>\n",
       "      <td>0.086642</td>\n",
       "      <td>0.032588</td>\n",
       "      <td>-0.024174</td>\n",
       "      <td>-0.024201</td>\n",
       "      <td>...</td>\n",
       "      <td>0.220839</td>\n",
       "      <td>0.225791</td>\n",
       "      <td>0.245757</td>\n",
       "      <td>0.202230</td>\n",
       "      <td>0.387722</td>\n",
       "      <td>1.000000</td>\n",
       "      <td>0.496678</td>\n",
       "      <td>0.254418</td>\n",
       "      <td>0.270380</td>\n",
       "      <td>0.187921</td>\n",
       "    </tr>\n",
       "    <tr>\n",
       "      <th>Q038</th>\n",
       "      <td>0.003906</td>\n",
       "      <td>NaN</td>\n",
       "      <td>-0.032710</td>\n",
       "      <td>-0.032467</td>\n",
       "      <td>-0.035306</td>\n",
       "      <td>-0.014725</td>\n",
       "      <td>0.069298</td>\n",
       "      <td>0.024112</td>\n",
       "      <td>-0.038666</td>\n",
       "      <td>-0.038305</td>\n",
       "      <td>...</td>\n",
       "      <td>0.159887</td>\n",
       "      <td>0.223508</td>\n",
       "      <td>0.215767</td>\n",
       "      <td>0.142610</td>\n",
       "      <td>0.378421</td>\n",
       "      <td>0.496678</td>\n",
       "      <td>1.000000</td>\n",
       "      <td>0.374424</td>\n",
       "      <td>0.259947</td>\n",
       "      <td>0.219529</td>\n",
       "    </tr>\n",
       "    <tr>\n",
       "      <th>Q039</th>\n",
       "      <td>0.001002</td>\n",
       "      <td>NaN</td>\n",
       "      <td>-0.094862</td>\n",
       "      <td>-0.094113</td>\n",
       "      <td>-0.069973</td>\n",
       "      <td>-0.066346</td>\n",
       "      <td>0.046830</td>\n",
       "      <td>0.011327</td>\n",
       "      <td>-0.097273</td>\n",
       "      <td>-0.096666</td>\n",
       "      <td>...</td>\n",
       "      <td>0.144264</td>\n",
       "      <td>0.206979</td>\n",
       "      <td>0.189252</td>\n",
       "      <td>0.225724</td>\n",
       "      <td>0.270343</td>\n",
       "      <td>0.254418</td>\n",
       "      <td>0.374424</td>\n",
       "      <td>1.000000</td>\n",
       "      <td>0.305357</td>\n",
       "      <td>0.262031</td>\n",
       "    </tr>\n",
       "    <tr>\n",
       "      <th>Q040</th>\n",
       "      <td>-0.010967</td>\n",
       "      <td>NaN</td>\n",
       "      <td>-0.077456</td>\n",
       "      <td>-0.076838</td>\n",
       "      <td>-0.010988</td>\n",
       "      <td>-0.022736</td>\n",
       "      <td>0.053556</td>\n",
       "      <td>0.014847</td>\n",
       "      <td>-0.081490</td>\n",
       "      <td>-0.080963</td>\n",
       "      <td>...</td>\n",
       "      <td>0.215292</td>\n",
       "      <td>0.176028</td>\n",
       "      <td>0.243190</td>\n",
       "      <td>0.179292</td>\n",
       "      <td>0.177025</td>\n",
       "      <td>0.270380</td>\n",
       "      <td>0.259947</td>\n",
       "      <td>0.305357</td>\n",
       "      <td>1.000000</td>\n",
       "      <td>0.306438</td>\n",
       "    </tr>\n",
       "    <tr>\n",
       "      <th>Q041</th>\n",
       "      <td>-0.029937</td>\n",
       "      <td>NaN</td>\n",
       "      <td>-0.033205</td>\n",
       "      <td>-0.033149</td>\n",
       "      <td>0.160526</td>\n",
       "      <td>0.108771</td>\n",
       "      <td>0.020966</td>\n",
       "      <td>0.008132</td>\n",
       "      <td>-0.042237</td>\n",
       "      <td>-0.042134</td>\n",
       "      <td>...</td>\n",
       "      <td>0.233832</td>\n",
       "      <td>0.205239</td>\n",
       "      <td>0.154743</td>\n",
       "      <td>0.113574</td>\n",
       "      <td>0.214736</td>\n",
       "      <td>0.187921</td>\n",
       "      <td>0.219529</td>\n",
       "      <td>0.262031</td>\n",
       "      <td>0.306438</td>\n",
       "      <td>1.000000</td>\n",
       "    </tr>\n",
       "  </tbody>\n",
       "</table>\n",
       "<p>107 rows × 107 columns</p>\n",
       "</div>"
      ],
      "text/plain": [
       "                         Unnamed: 0  NU_ANO  CO_MUNICIPIO_RESIDENCIA  \\\n",
       "Unnamed: 0                 1.000000     NaN                -0.007258   \n",
       "NU_ANO                          NaN     NaN                      NaN   \n",
       "CO_MUNICIPIO_RESIDENCIA   -0.007258     NaN                 1.000000   \n",
       "CO_UF_RESIDENCIA          -0.007250     NaN                 0.999865   \n",
       "NU_IDADE                  -0.007201     NaN                -0.002296   \n",
       "...                             ...     ...                      ...   \n",
       "Q037                      -0.004914     NaN                -0.013479   \n",
       "Q038                       0.003906     NaN                -0.032710   \n",
       "Q039                       0.001002     NaN                -0.094862   \n",
       "Q040                      -0.010967     NaN                -0.077456   \n",
       "Q041                      -0.029937     NaN                -0.033205   \n",
       "\n",
       "                         CO_UF_RESIDENCIA  NU_IDADE  TP_ESTADO_CIVIL  \\\n",
       "Unnamed: 0                      -0.007250 -0.007201         0.003678   \n",
       "NU_ANO                                NaN       NaN              NaN   \n",
       "CO_MUNICIPIO_RESIDENCIA          0.999865 -0.002296         0.020813   \n",
       "CO_UF_RESIDENCIA                 1.000000 -0.002017         0.020947   \n",
       "NU_IDADE                        -0.002017  1.000000         0.533462   \n",
       "...                                   ...       ...              ...   \n",
       "Q037                            -0.013647 -0.003569         0.002294   \n",
       "Q038                            -0.032467 -0.035306        -0.014725   \n",
       "Q039                            -0.094113 -0.069973        -0.066346   \n",
       "Q040                            -0.076838 -0.010988        -0.022736   \n",
       "Q041                            -0.033149  0.160526         0.108771   \n",
       "\n",
       "                         TP_COR_RACA  TP_NACIONALIDADE  \\\n",
       "Unnamed: 0                  0.005707         -0.006217   \n",
       "NU_ANO                           NaN               NaN   \n",
       "CO_MUNICIPIO_RESIDENCIA    -0.236178          0.009710   \n",
       "CO_UF_RESIDENCIA           -0.234786          0.009433   \n",
       "NU_IDADE                    0.009675         -0.017713   \n",
       "...                              ...               ...   \n",
       "Q037                        0.086642          0.032588   \n",
       "Q038                        0.069298          0.024112   \n",
       "Q039                        0.046830          0.011327   \n",
       "Q040                        0.053556          0.014847   \n",
       "Q041                        0.020966          0.008132   \n",
       "\n",
       "                         CO_MUNICIPIO_NASCIMENTO  CO_UF_NASCIMENTO  ...  \\\n",
       "Unnamed: 0                             -0.004527         -0.004615  ...   \n",
       "NU_ANO                                       NaN               NaN  ...   \n",
       "CO_MUNICIPIO_RESIDENCIA                 0.865294          0.865216  ...   \n",
       "CO_UF_RESIDENCIA                        0.864791          0.864919  ...   \n",
       "NU_IDADE                               -0.030711         -0.030259  ...   \n",
       "...                                          ...               ...  ...   \n",
       "Q037                                   -0.024174         -0.024201  ...   \n",
       "Q038                                   -0.038666         -0.038305  ...   \n",
       "Q039                                   -0.097273         -0.096666  ...   \n",
       "Q040                                   -0.081490         -0.080963  ...   \n",
       "Q041                                   -0.042237         -0.042134  ...   \n",
       "\n",
       "                             Q032      Q033      Q034      Q035      Q036  \\\n",
       "Unnamed: 0               0.001520  0.018074  0.001693 -0.008141  0.002724   \n",
       "NU_ANO                        NaN       NaN       NaN       NaN       NaN   \n",
       "CO_MUNICIPIO_RESIDENCIA  0.004115 -0.030114 -0.050304 -0.050138 -0.040668   \n",
       "CO_UF_RESIDENCIA         0.003968 -0.030345 -0.050096 -0.049292 -0.040688   \n",
       "NU_IDADE                -0.044791  0.025077 -0.030681  0.012739  0.021949   \n",
       "...                           ...       ...       ...       ...       ...   \n",
       "Q037                     0.220839  0.225791  0.245757  0.202230  0.387722   \n",
       "Q038                     0.159887  0.223508  0.215767  0.142610  0.378421   \n",
       "Q039                     0.144264  0.206979  0.189252  0.225724  0.270343   \n",
       "Q040                     0.215292  0.176028  0.243190  0.179292  0.177025   \n",
       "Q041                     0.233832  0.205239  0.154743  0.113574  0.214736   \n",
       "\n",
       "                             Q037      Q038      Q039      Q040      Q041  \n",
       "Unnamed: 0              -0.004914  0.003906  0.001002 -0.010967 -0.029937  \n",
       "NU_ANO                        NaN       NaN       NaN       NaN       NaN  \n",
       "CO_MUNICIPIO_RESIDENCIA -0.013479 -0.032710 -0.094862 -0.077456 -0.033205  \n",
       "CO_UF_RESIDENCIA        -0.013647 -0.032467 -0.094113 -0.076838 -0.033149  \n",
       "NU_IDADE                -0.003569 -0.035306 -0.069973 -0.010988  0.160526  \n",
       "...                           ...       ...       ...       ...       ...  \n",
       "Q037                     1.000000  0.496678  0.254418  0.270380  0.187921  \n",
       "Q038                     0.496678  1.000000  0.374424  0.259947  0.219529  \n",
       "Q039                     0.254418  0.374424  1.000000  0.305357  0.262031  \n",
       "Q040                     0.270380  0.259947  0.305357  1.000000  0.306438  \n",
       "Q041                     0.187921  0.219529  0.262031  0.306438  1.000000  \n",
       "\n",
       "[107 rows x 107 columns]"
      ]
     },
     "execution_count": 5,
     "metadata": {},
     "output_type": "execute_result"
    }
   ],
   "source": [
    "df_train.corr()"
   ]
  },
  {
   "cell_type": "markdown",
   "metadata": {},
   "source": [
    "* Fazendo um estudo de correlação das features "
   ]
  },
  {
   "cell_type": "code",
   "execution_count": 6,
   "metadata": {},
   "outputs": [
    {
     "data": {
      "text/plain": [
       "IN_TREINEIRO       1.000000\n",
       "TP_ST_CONCLUSAO    0.533983\n",
       "TP_PRESENCA_CN     0.094692\n",
       "TP_PRESENCA_CH     0.094692\n",
       "TP_PRESENCA_LC     0.092454\n",
       "TP_PRESENCA_MT     0.092454\n",
       "Name: IN_TREINEIRO, dtype: float64"
      ]
     },
     "execution_count": 6,
     "metadata": {},
     "output_type": "execute_result"
    }
   ],
   "source": [
    "corr_mt = df_train[df_train.columns[1:]].corr()['IN_TREINEIRO'][:]\n",
    "corr_mt.sort_values(ascending=False).head(6)"
   ]
  },
  {
   "cell_type": "markdown",
   "metadata": {},
   "source": [
    "* Vizalidando as top 5 correlações positivas para a nossa feature target."
   ]
  },
  {
   "cell_type": "code",
   "execution_count": 7,
   "metadata": {
    "scrolled": true
   },
   "outputs": [
    {
     "data": {
      "text/plain": [
       "NU_IDADE          -0.295091\n",
       "TP_ANO_CONCLUIU   -0.257710\n",
       "TP_ESCOLA         -0.244562\n",
       "IN_CERTIFICADO    -0.142185\n",
       "TP_ESTADO_CIVIL   -0.117932\n",
       "Name: IN_TREINEIRO, dtype: float64"
      ]
     },
     "execution_count": 7,
     "metadata": {},
     "output_type": "execute_result"
    }
   ],
   "source": [
    "corr_mt.sort_values().head()"
   ]
  },
  {
   "cell_type": "markdown",
   "metadata": {},
   "source": [
    "* Outro passo importante é verificar se há correlações negativas significantes"
   ]
  },
  {
   "cell_type": "code",
   "execution_count": 8,
   "metadata": {},
   "outputs": [
    {
     "data": {
      "text/plain": [
       "IN_TREINEIRO       1.000000\n",
       "TP_ST_CONCLUSAO    0.536272\n",
       "TP_PRESENCA_CH     0.094805\n",
       "TP_PRESENCA_CN     0.094805\n",
       "TP_PRESENCA_LC     0.092589\n",
       "Name: IN_TREINEIRO, dtype: float64"
      ]
     },
     "execution_count": 8,
     "metadata": {},
     "output_type": "execute_result"
    }
   ],
   "source": [
    "corr_spearman = df_train[df_train.columns[1:]].corr(method='spearman')['IN_TREINEIRO'][:]\n",
    "corr_spearman.sort_values(ascending=False).head()"
   ]
  },
  {
   "cell_type": "code",
   "execution_count": 9,
   "metadata": {
    "scrolled": true
   },
   "outputs": [
    {
     "data": {
      "text/plain": [
       "NU_IDADE          -0.535499\n",
       "TP_ANO_CONCLUIU   -0.344331\n",
       "TP_ESCOLA         -0.258023\n",
       "IN_CERTIFICADO    -0.142185\n",
       "TP_ESTADO_CIVIL   -0.124211\n",
       "Name: IN_TREINEIRO, dtype: float64"
      ]
     },
     "execution_count": 9,
     "metadata": {},
     "output_type": "execute_result"
    }
   ],
   "source": [
    "corr_spearman.sort_values().head()"
   ]
  },
  {
   "cell_type": "markdown",
   "metadata": {},
   "source": [
    "* Conclusão: É sempre importante verificar tanto as correlações positivas quanto negativas, visto que dentre as features com correlação positiva, só a 'TP_ST_CONCLUSAO' teve uma correlação forte enquanto o relativo as correlações negativas as features: 'NU_IDADE', 'TP_ANO_CONCLUIU'e 'TP_ESCOLA' tiveram uma grande representatividade, sendo estas, as features escolhidas no meu modelo."
   ]
  },
  {
   "cell_type": "markdown",
   "metadata": {},
   "source": [
    "* PS: A correlação de pearson foi usada para um tira teima depois de uma pesquisa sobre o melhor método de correlação para features categóricas e ele se mostrou mais eficaz, pois deu maior peso à algumas features o que poderia impactar muito na efciência do modelo dependendo do dataset avaliado. "
   ]
  },
  {
   "cell_type": "code",
   "execution_count": 10,
   "metadata": {},
   "outputs": [],
   "source": [
    "features = ['TP_ST_CONCLUSAO', 'NU_IDADE', 'TP_ANO_CONCLUIU', 'TP_ESCOLA']\n",
    "features_corr = ['IN_TREINEIRO','TP_ST_CONCLUSAO', 'NU_IDADE', 'TP_ANO_CONCLUIU', 'TP_ESCOLA']"
   ]
  },
  {
   "cell_type": "markdown",
   "metadata": {},
   "source": [
    "* Separando as features escolhidas"
   ]
  },
  {
   "cell_type": "code",
   "execution_count": 11,
   "metadata": {
    "scrolled": true
   },
   "outputs": [
    {
     "data": {
      "text/plain": [
       "IN_TREINEIRO       0\n",
       "TP_ST_CONCLUSAO    0\n",
       "NU_IDADE           0\n",
       "TP_ANO_CONCLUIU    0\n",
       "TP_ESCOLA          0\n",
       "dtype: int64"
      ]
     },
     "execution_count": 11,
     "metadata": {},
     "output_type": "execute_result"
    }
   ],
   "source": [
    "df_train[features_corr].isna().sum()"
   ]
  },
  {
   "cell_type": "markdown",
   "metadata": {},
   "source": [
    "* Verificando se há a presença de dados faltantes nas features escolhidas para o dataset de treino. "
   ]
  },
  {
   "cell_type": "code",
   "execution_count": 12,
   "metadata": {
    "scrolled": false
   },
   "outputs": [
    {
     "data": {
      "image/png": "[encoded data removed]",
      "text/plain": [
       "<Figure size 864x648 with 2 Axes>"
      ]
     },
     "metadata": {},
     "output_type": "display_data"
    }
   ],
   "source": [
    "correlation = df_train[features_corr].corr()\n",
    "sns.heatmap(correlation, annot=True, annot_kws={'size':10});"
   ]
  },
  {
   "cell_type": "markdown",
   "metadata": {},
   "source": [
    "* Visualização das features escolhidas a partir de um heatmap de correlação com a feature target('IN_TREINEIRO')"
   ]
  },
  {
   "cell_type": "markdown",
   "metadata": {},
   "source": [
    "## Criando e testando modelos de machine learning"
   ]
  },
  {
   "cell_type": "code",
   "execution_count": 13,
   "metadata": {},
   "outputs": [],
   "source": [
    "target_train = df_train['IN_TREINEIRO']\n",
    "x_train = df_train[features]\n",
    "X_test = df_test[features]"
   ]
  },
  {
   "cell_type": "markdown",
   "metadata": {},
   "source": [
    "* Criando as variáveis que serão utilizadas no modelo de classificação."
   ]
  },
  {
   "cell_type": "code",
   "execution_count": 14,
   "metadata": {},
   "outputs": [],
   "source": [
    "dicionario_metodos={'Naive Bayes': GaussianNB(), 'Árvode de Decisão': DecisionTreeClassifier(criterion='entropy'),\n",
    "                    'Random Forest': RandomForestClassifier(n_estimators=40, criterion='entropy', random_state=777), \n",
    "                    'Bagging': BaggingClassifier(DecisionTreeClassifier(), n_estimators=300, max_samples=100, bootstrap=True), \n",
    "                    'Regressão Logística': LogisticRegression()}"
   ]
  },
  {
   "cell_type": "markdown",
   "metadata": {},
   "source": [
    "* Criando um dicionário com os métodos de classifcação que serão testado"
   ]
  },
  {
   "cell_type": "code",
   "execution_count": 15,
   "metadata": {},
   "outputs": [],
   "source": [
    "dicionario_metricas={'Acuracia': accuracy_score, 'Precisão': precision_score, 'Recall': recall_score} \n"
   ]
  },
  {
   "cell_type": "markdown",
   "metadata": {},
   "source": [
    "* Criando um dicionário com as métricas que avaliarão os métodos acima."
   ]
  },
  {
   "cell_type": "code",
   "execution_count": 16,
   "metadata": {
    "scrolled": true
   },
   "outputs": [
    {
     "name": "stdout",
     "output_type": "stream",
     "text": [
      "\n",
      "Naive Bayes\n",
      "Acuracia 0.9713\n",
      "Precisão 0.819\n",
      "Recall 1.0\n",
      "\n",
      "Árvode de Decisão\n",
      "Acuracia 0.997\n",
      "Precisão 1.0\n",
      "Recall 0.977\n",
      "\n",
      "Random Forest\n",
      "Acuracia 0.997\n",
      "Precisão 1.0\n",
      "Recall 0.977\n",
      "\n",
      "Bagging\n",
      "Acuracia 0.9956\n",
      "Precisão 0.9892\n",
      "Recall 0.977\n",
      "\n",
      "Regressão Logística\n",
      "Acuracia 0.9955\n",
      "Precisão 0.9881\n",
      "Recall 0.977\n"
     ]
    }
   ],
   "source": [
    "for nome, metodo in dicionario_metodos.items():\n",
    "    classificador = metodo\n",
    "    classificador.fit(x_train, target_train)\n",
    "    predicted = classificador.predict(x_train)\n",
    "    lista_resultados = []\n",
    "    print('', nome, sep='\\n')\n",
    "    for score, metrica in dicionario_metricas.items():\n",
    "        \n",
    "        resultado = metrica(target_train, predicted)\n",
    "        print(score, round(resultado,4))\n",
    "        "
   ]
  },
  {
   "cell_type": "markdown",
   "metadata": {},
   "source": [
    "* Criando um código para avaliar o melhor modelo de ML"
   ]
  },
  {
   "cell_type": "markdown",
   "metadata": {},
   "source": [
    "# Naive Bayes"
   ]
  },
  {
   "cell_type": "code",
   "execution_count": 17,
   "metadata": {},
   "outputs": [],
   "source": [
    "classificador = GaussianNB()"
   ]
  },
  {
   "cell_type": "code",
   "execution_count": 18,
   "metadata": {},
   "outputs": [
    {
     "data": {
      "text/plain": [
       "GaussianNB(priors=None, var_smoothing=1e-09)"
      ]
     },
     "execution_count": 18,
     "metadata": {},
     "output_type": "execute_result"
    }
   ],
   "source": [
    "classificador.fit(x_train, target_train)"
   ]
  },
  {
   "cell_type": "code",
   "execution_count": 19,
   "metadata": {},
   "outputs": [
    {
     "data": {
      "text/plain": [
       "array([0, 0, 1, 0, 0])"
      ]
     },
     "execution_count": 19,
     "metadata": {},
     "output_type": "execute_result"
    }
   ],
   "source": [
    "predicted = classificador.predict(x_train)\n",
    "predicted[:5]"
   ]
  },
  {
   "cell_type": "code",
   "execution_count": 20,
   "metadata": {},
   "outputs": [
    {
     "data": {
      "text/plain": [
       "array([0, 0, 1, 0, 0])"
      ]
     },
     "execution_count": 20,
     "metadata": {},
     "output_type": "execute_result"
    }
   ],
   "source": [
    "predicted_test = classificador.predict(X_test)\n",
    "predicted_test[:5]"
   ]
  },
  {
   "cell_type": "code",
   "execution_count": 21,
   "metadata": {},
   "outputs": [],
   "source": [
    "precisao = accuracy_score(target_train, predicted)"
   ]
  },
  {
   "cell_type": "code",
   "execution_count": 22,
   "metadata": {},
   "outputs": [
    {
     "data": {
      "text/plain": [
       "97.1304"
      ]
     },
     "execution_count": 22,
     "metadata": {},
     "output_type": "execute_result"
    }
   ],
   "source": [
    "round(precisao*100,4)"
   ]
  },
  {
   "cell_type": "code",
   "execution_count": 23,
   "metadata": {},
   "outputs": [],
   "source": [
    "matriz = confusion_matrix(target_train, predicted)"
   ]
  },
  {
   "cell_type": "code",
   "execution_count": 24,
   "metadata": {},
   "outputs": [
    {
     "data": {
      "text/plain": [
       "array([[11553,   394],\n",
       "       [    0,  1783]])"
      ]
     },
     "execution_count": 24,
     "metadata": {},
     "output_type": "execute_result"
    }
   ],
   "source": [
    "matriz"
   ]
  },
  {
   "cell_type": "markdown",
   "metadata": {},
   "source": [
    "### Métricas: ###\n",
    "* Precisão: 97.1304 \n",
    "* Codenation: 97.3522 "
   ]
  },
  {
   "cell_type": "markdown",
   "metadata": {},
   "source": [
    "# Árvore de Decisão"
   ]
  },
  {
   "cell_type": "code",
   "execution_count": 25,
   "metadata": {},
   "outputs": [],
   "source": [
    "ad_classificador = DecisionTreeClassifier(criterion='entropy')"
   ]
  },
  {
   "cell_type": "code",
   "execution_count": 26,
   "metadata": {},
   "outputs": [
    {
     "data": {
      "text/plain": [
       "DecisionTreeClassifier(ccp_alpha=0.0, class_weight=None, criterion='entropy',\n",
       "                       max_depth=None, max_features=None, max_leaf_nodes=None,\n",
       "                       min_impurity_decrease=0.0, min_impurity_split=None,\n",
       "                       min_samples_leaf=1, min_samples_split=2,\n",
       "                       min_weight_fraction_leaf=0.0, presort='deprecated',\n",
       "                       random_state=None, splitter='best')"
      ]
     },
     "execution_count": 26,
     "metadata": {},
     "output_type": "execute_result"
    }
   ],
   "source": [
    "ad_classificador.fit(x_train, target_train)"
   ]
  },
  {
   "cell_type": "code",
   "execution_count": 27,
   "metadata": {
    "scrolled": false
   },
   "outputs": [
    {
     "data": {
      "text/plain": [
       "array([0, 0, 0, 0, 0])"
      ]
     },
     "execution_count": 27,
     "metadata": {},
     "output_type": "execute_result"
    }
   ],
   "source": [
    "ad_predicted = ad_classificador.predict(x_train)\n",
    "ad_predicted[:5]"
   ]
  },
  {
   "cell_type": "code",
   "execution_count": 28,
   "metadata": {},
   "outputs": [
    {
     "data": {
      "text/plain": [
       "array([0, 0, 1, 0, 0])"
      ]
     },
     "execution_count": 28,
     "metadata": {},
     "output_type": "execute_result"
    }
   ],
   "source": [
    "ad_predicted_test = ad_classificador.predict(X_test)\n",
    "ad_predicted_test[:5]"
   ]
  },
  {
   "cell_type": "code",
   "execution_count": 29,
   "metadata": {},
   "outputs": [],
   "source": [
    "ad_precisao = accuracy_score(target_train, ad_predicted)"
   ]
  },
  {
   "cell_type": "code",
   "execution_count": 30,
   "metadata": {},
   "outputs": [
    {
     "data": {
      "text/plain": [
       "99.7014"
      ]
     },
     "execution_count": 30,
     "metadata": {},
     "output_type": "execute_result"
    }
   ],
   "source": [
    "round(ad_precisao*100,4)"
   ]
  },
  {
   "cell_type": "code",
   "execution_count": 31,
   "metadata": {
    "scrolled": true
   },
   "outputs": [
    {
     "data": {
      "text/plain": [
       "array([[11947,     0],\n",
       "       [   41,  1742]])"
      ]
     },
     "execution_count": 31,
     "metadata": {},
     "output_type": "execute_result"
    }
   ],
   "source": [
    "ad_matriz = confusion_matrix(target_train, ad_predicted)\n",
    "ad_matriz"
   ]
  },
  {
   "cell_type": "markdown",
   "metadata": {},
   "source": [
    "### Métricas: ###\n",
    "* Precisão: 99.7014 \n",
    "* Codenation: 99.7374 "
   ]
  },
  {
   "cell_type": "markdown",
   "metadata": {},
   "source": [
    "# Random Forest #"
   ]
  },
  {
   "cell_type": "code",
   "execution_count": 32,
   "metadata": {},
   "outputs": [],
   "source": [
    "rf_classificador = RandomForestClassifier(n_estimators=40, criterion='entropy', random_state=777)"
   ]
  },
  {
   "cell_type": "code",
   "execution_count": 33,
   "metadata": {},
   "outputs": [
    {
     "data": {
      "text/plain": [
       "RandomForestClassifier(bootstrap=True, ccp_alpha=0.0, class_weight=None,\n",
       "                       criterion='entropy', max_depth=None, max_features='auto',\n",
       "                       max_leaf_nodes=None, max_samples=None,\n",
       "                       min_impurity_decrease=0.0, min_impurity_split=None,\n",
       "                       min_samples_leaf=1, min_samples_split=2,\n",
       "                       min_weight_fraction_leaf=0.0, n_estimators=40,\n",
       "                       n_jobs=None, oob_score=False, random_state=777,\n",
       "                       verbose=0, warm_start=False)"
      ]
     },
     "execution_count": 33,
     "metadata": {},
     "output_type": "execute_result"
    }
   ],
   "source": [
    "rf_classificador.fit(x_train, target_train)"
   ]
  },
  {
   "cell_type": "code",
   "execution_count": 34,
   "metadata": {},
   "outputs": [
    {
     "data": {
      "text/plain": [
       "array([0, 0, 0, 0, 0])"
      ]
     },
     "execution_count": 34,
     "metadata": {},
     "output_type": "execute_result"
    }
   ],
   "source": [
    "rf_predicted = rf_classificador.predict(x_train)\n",
    "rf_predicted[:5]"
   ]
  },
  {
   "cell_type": "code",
   "execution_count": 35,
   "metadata": {},
   "outputs": [
    {
     "data": {
      "text/plain": [
       "array([0, 0, 1, 0, 0])"
      ]
     },
     "execution_count": 35,
     "metadata": {},
     "output_type": "execute_result"
    }
   ],
   "source": [
    "rf_predicted_test = rf_classificador.predict(X_test)\n",
    "rf_predicted_test[:5]"
   ]
  },
  {
   "cell_type": "code",
   "execution_count": 36,
   "metadata": {},
   "outputs": [
    {
     "data": {
      "text/plain": [
       "100.0"
      ]
     },
     "execution_count": 36,
     "metadata": {},
     "output_type": "execute_result"
    }
   ],
   "source": [
    "rf_precisao = precision_score(target_train, rf_predicted)\n",
    "round(rf_precisao*100,4)"
   ]
  },
  {
   "cell_type": "code",
   "execution_count": 37,
   "metadata": {},
   "outputs": [
    {
     "data": {
      "text/plain": [
       "array([[11947,     0],\n",
       "       [   41,  1742]])"
      ]
     },
     "execution_count": 37,
     "metadata": {},
     "output_type": "execute_result"
    }
   ],
   "source": [
    "rf_matriz = confusion_matrix(target_train, rf_predicted)\n",
    "rf_matriz"
   ]
  },
  {
   "cell_type": "markdown",
   "metadata": {},
   "source": [
    "# Bagging"
   ]
  },
  {
   "cell_type": "code",
   "execution_count": 38,
   "metadata": {},
   "outputs": [],
   "source": [
    "bg_classificador = BaggingClassifier(DecisionTreeClassifier(), n_estimators=300, max_samples=100, bootstrap=True)"
   ]
  },
  {
   "cell_type": "code",
   "execution_count": 39,
   "metadata": {},
   "outputs": [
    {
     "data": {
      "text/plain": [
       "BaggingClassifier(base_estimator=DecisionTreeClassifier(ccp_alpha=0.0,\n",
       "                                                        class_weight=None,\n",
       "                                                        criterion='gini',\n",
       "                                                        max_depth=None,\n",
       "                                                        max_features=None,\n",
       "                                                        max_leaf_nodes=None,\n",
       "                                                        min_impurity_decrease=0.0,\n",
       "                                                        min_impurity_split=None,\n",
       "                                                        min_samples_leaf=1,\n",
       "                                                        min_samples_split=2,\n",
       "                                                        min_weight_fraction_leaf=0.0,\n",
       "                                                        presort='deprecated',\n",
       "                                                        random_state=None,\n",
       "                                                        splitter='best'),\n",
       "                  bootstrap=True, bootstrap_features=False, max_features=1.0,\n",
       "                  max_samples=100, n_estimators=300, n_jobs=None,\n",
       "                  oob_score=False, random_state=None, verbose=0,\n",
       "                  warm_start=False)"
      ]
     },
     "execution_count": 39,
     "metadata": {},
     "output_type": "execute_result"
    }
   ],
   "source": [
    "bg_classificador.fit(x_train, target_train)"
   ]
  },
  {
   "cell_type": "code",
   "execution_count": 40,
   "metadata": {
    "scrolled": true
   },
   "outputs": [
    {
     "data": {
      "text/plain": [
       "array([0, 0, 0, 0, 0])"
      ]
     },
     "execution_count": 40,
     "metadata": {},
     "output_type": "execute_result"
    }
   ],
   "source": [
    "bg_predicted = bg_classificador.predict(x_train)\n",
    "bg_predicted[:5]"
   ]
  },
  {
   "cell_type": "code",
   "execution_count": 41,
   "metadata": {},
   "outputs": [
    {
     "data": {
      "text/plain": [
       "array([0, 0, 1, 0, 0])"
      ]
     },
     "execution_count": 41,
     "metadata": {},
     "output_type": "execute_result"
    }
   ],
   "source": [
    "bg_predicted_test = bg_classificador.predict(X_test)\n",
    "bg_predicted_test[:5]"
   ]
  },
  {
   "cell_type": "code",
   "execution_count": 42,
   "metadata": {},
   "outputs": [
    {
     "data": {
      "text/plain": [
       "99.563"
      ]
     },
     "execution_count": 42,
     "metadata": {},
     "output_type": "execute_result"
    }
   ],
   "source": [
    "bg_precisao = accuracy_score(target_train, bg_predicted)\n",
    "round(bg_precisao*100,5)"
   ]
  },
  {
   "cell_type": "code",
   "execution_count": 43,
   "metadata": {
    "scrolled": true
   },
   "outputs": [
    {
     "data": {
      "text/plain": [
       "array([[11928,    19],\n",
       "       [   41,  1742]])"
      ]
     },
     "execution_count": 43,
     "metadata": {},
     "output_type": "execute_result"
    }
   ],
   "source": [
    "bg_matriz = confusion_matrix(target_train, bg_predicted)\n",
    "bg_matriz"
   ]
  },
  {
   "cell_type": "markdown",
   "metadata": {},
   "source": [
    "### Métricas: ###\n",
    "* Precisão: 99.563 \n",
    "* Codenation: 99.6498 "
   ]
  },
  {
   "cell_type": "markdown",
   "metadata": {},
   "source": [
    "# Regressão Logística #"
   ]
  },
  {
   "cell_type": "code",
   "execution_count": 44,
   "metadata": {},
   "outputs": [],
   "source": [
    "lr_classificador = LogisticRegression()"
   ]
  },
  {
   "cell_type": "code",
   "execution_count": 45,
   "metadata": {},
   "outputs": [
    {
     "data": {
      "text/plain": [
       "LogisticRegression(C=1.0, class_weight=None, dual=False, fit_intercept=True,\n",
       "                   intercept_scaling=1, l1_ratio=None, max_iter=100,\n",
       "                   multi_class='auto', n_jobs=None, penalty='l2',\n",
       "                   random_state=None, solver='lbfgs', tol=0.0001, verbose=0,\n",
       "                   warm_start=False)"
      ]
     },
     "execution_count": 45,
     "metadata": {},
     "output_type": "execute_result"
    }
   ],
   "source": [
    "lr_classificador.fit(x_train, target_train)"
   ]
  },
  {
   "cell_type": "code",
   "execution_count": 46,
   "metadata": {},
   "outputs": [
    {
     "data": {
      "text/plain": [
       "array([0, 0, 0, 0, 0])"
      ]
     },
     "execution_count": 46,
     "metadata": {},
     "output_type": "execute_result"
    }
   ],
   "source": [
    "lr_predicted = lr_classificador.predict(x_train)\n",
    "lr_predicted[:5]"
   ]
  },
  {
   "cell_type": "code",
   "execution_count": 47,
   "metadata": {},
   "outputs": [
    {
     "data": {
      "text/plain": [
       "array([0, 0, 1, 0, 0])"
      ]
     },
     "execution_count": 47,
     "metadata": {},
     "output_type": "execute_result"
    }
   ],
   "source": [
    "lr_predicted_test = lr_classificador.predict(X_test)\n",
    "lr_predicted_test[:5]"
   ]
  },
  {
   "cell_type": "code",
   "execution_count": 48,
   "metadata": {},
   "outputs": [
    {
     "data": {
      "text/plain": [
       "99.563"
      ]
     },
     "execution_count": 48,
     "metadata": {},
     "output_type": "execute_result"
    }
   ],
   "source": [
    "lr_precisao = accuracy_score(target_train, lr_predicted)\n",
    "round(bg_precisao*100,5)"
   ]
  },
  {
   "cell_type": "code",
   "execution_count": 49,
   "metadata": {
    "scrolled": true
   },
   "outputs": [
    {
     "data": {
      "text/plain": [
       "array([[11926,    21],\n",
       "       [   41,  1742]])"
      ]
     },
     "execution_count": 49,
     "metadata": {},
     "output_type": "execute_result"
    }
   ],
   "source": [
    "lr_matriz = confusion_matrix(target_train, lr_predicted)\n",
    "lr_matriz"
   ]
  },
  {
   "cell_type": "markdown",
   "metadata": {},
   "source": [
    "### Métricas: ###\n",
    "* Acurácia: 99.563 \n",
    "* Codenation: 99.6280 "
   ]
  },
  {
   "cell_type": "code",
   "execution_count": 50,
   "metadata": {},
   "outputs": [],
   "source": [
    "NU_INSCRICAO = df_test['NU_INSCRICAO'].values\n",
    "final = pd.DataFrame(list(zip(NU_INSCRICAO, lr_predicted_test)), columns = ['NU_INSCRICAO', 'IN_TREINEIRO'])\n",
    "final.to_csv('answer.csv', sep=',', index=False)"
   ]
  },
  {
   "cell_type": "markdown",
   "metadata": {},
   "source": [
    "# Criando e testando um código para automatizar a a escolha do modelo de ML"
   ]
  },
  {
   "cell_type": "code",
   "execution_count": 54,
   "metadata": {},
   "outputs": [
    {
     "name": "stdout",
     "output_type": "stream",
     "text": [
      "O classficicador usado foi Random Forest\n"
     ]
    }
   ],
   "source": [
    "\n",
    "melhor_predizor = {}\n",
    "for nome, metodo in dicionario_metodos.items():\n",
    "    classificador = metodo\n",
    "    classificador.fit(x_train, target_train)\n",
    "    predicted = classificador.predict(x_train)\n",
    "    lista_resultados = []\n",
    "    for score, metrica in dicionario_metricas.items():\n",
    "        resultado = metrica(target_train, predicted)\n",
    "        #print(score, round(resultado,4))\n",
    "        lista_resultados.append(resultado)\n",
    "        #lista_resultados = [round(x,5) for x in lista_resultados]\n",
    "    if lista_resultados[0]> 0.97 and lista_resultados[1]> 0.97:\n",
    "        #print(nome, '', sep='\\n')\n",
    "        #print(lista_resultados)\n",
    "        melhor_predizor[nome] = lista_resultados\n",
    "        #acuracia = lista_resultados[0]\n",
    "        #precisao = lista_resultados[1]\n",
    "        #recall = lista_resultados[2]\n",
    "melhor_resultado = [0, 0]\n",
    "for predizor, resultado in melhor_predizor.items():\n",
    "    if  resultado[0] >= melhor_resultado[0]  and resultado[1] >= melhor_resultado[1]:\n",
    "        novo_classificador = dicionario_metodos.get(predizor)\n",
    "        melhor_resultado = resultado\n",
    "        melhor_predizor = predizor\n",
    "\n",
    "novo_classificador.fit(x_train, target_train)\n",
    "predicted_test = novo_classificador.predict(X_test)\n",
    "print(f'O classficicador usado foi {melhor_predizor}')\n",
    "        \n",
    "NU_INSCRICAO = df_test['NU_INSCRICAO'].values\n",
    "final = pd.DataFrame(list(zip(NU_INSCRICAO, predicted_test)), columns = ['NU_INSCRICAO', 'IN_TREINEIRO'])\n",
    "final.to_csv('answer.csv', sep=',', index=False)\n",
    "         "
   ]
  },
  {
   "cell_type": "markdown",
   "metadata": {},
   "source": [
    "* Resuldado foi de 99,73 na condenation."
   ]
  }
 ],
 "metadata": {
  "kernelspec": {
   "display_name": "Python 3",
   "language": "python",
   "name": "python3"
  },
  "language_info": {
   "codemirror_mode": {
    "name": "ipython",
    "version": 3
   },
   "file_extension": ".py",
   "mimetype": "text/x-python",
   "name": "python",
   "nbconvert_exporter": "python",
   "pygments_lexer": "ipython3",
   "version": "3.7.6"
  }
 },
 "nbformat": 4,
 "nbformat_minor": 4
}
