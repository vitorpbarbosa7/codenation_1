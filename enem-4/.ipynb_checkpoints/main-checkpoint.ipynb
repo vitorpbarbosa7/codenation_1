{
 "cells": [
  {
   "cell_type": "code",
   "execution_count": 10,
   "metadata": {
    "colab": {},
    "colab_type": "code",
    "id": "shKg6OVChp8m"
   },
   "outputs": [],
   "source": [
    "import pandas as pd\n",
    "import numpy as np\n",
    "import matplotlib.pyplot as plt\n",
    "import seaborn as sns\n",
    "from sklearn.ensemble import RandomForestRegressor\n",
    "\n",
    "%matplotlib inline"
   ]
  },
  {
   "cell_type": "code",
   "execution_count": 74,
   "metadata": {},
   "outputs": [],
   "source": [
    "train = pd.read_csv('train.csv')\n",
    "test = pd.read_csv('test.csv')"
   ]
  },
  {
   "cell_type": "markdown",
   "metadata": {},
   "source": [
    "### Dataset de teste possui apenas 43 colunas e dataset de treino possui 167"
   ]
  },
  {
   "cell_type": "code",
   "execution_count": 75,
   "metadata": {},
   "outputs": [
    {
     "name": "stdout",
     "output_type": "stream",
     "text": [
      "Shape Test: (4570, 43) and Shape Train: (13730, 167)\n"
     ]
    }
   ],
   "source": [
    "print(f'Shape Test: {test.shape} and Shape Train: {train.shape}')"
   ]
  },
  {
   "cell_type": "markdown",
   "metadata": {},
   "source": [
    "### Lista de variáveis presentes no dataset de teste"
   ]
  },
  {
   "cell_type": "code",
   "execution_count": 76,
   "metadata": {},
   "outputs": [],
   "source": [
    "test_features = list(test)\n",
    "train_features = list(train)"
   ]
  },
  {
   "cell_type": "code",
   "execution_count": 77,
   "metadata": {},
   "outputs": [],
   "source": [
    "a = train_features in test_features"
   ]
  },
  {
   "cell_type": "code",
   "execution_count": 78,
   "metadata": {},
   "outputs": [],
   "source": [
    "newtrain_features = list(set(train_features).intersection(set(test_features)))"
   ]
  },
  {
   "cell_type": "code",
   "execution_count": 79,
   "metadata": {},
   "outputs": [],
   "source": [
    "newtrain_features.append('IN_TREINEIRO')"
   ]
  },
  {
   "cell_type": "code",
   "execution_count": 80,
   "metadata": {},
   "outputs": [
    {
     "data": {
      "text/plain": [
       "44"
      ]
     },
     "execution_count": 80,
     "metadata": {},
     "output_type": "execute_result"
    }
   ],
   "source": [
    "len(newtrain_features)"
   ]
  },
  {
   "cell_type": "code",
   "execution_count": 81,
   "metadata": {},
   "outputs": [],
   "source": [
    "train = train[newtrain_features]"
   ]
  },
  {
   "cell_type": "code",
   "execution_count": 83,
   "metadata": {},
   "outputs": [
    {
     "name": "stdout",
     "output_type": "stream",
     "text": [
      "New shape of train (13730, 44)\n"
     ]
    }
   ],
   "source": [
    "print(f'New shape of train {train.shape}')"
   ]
  },
  {
   "cell_type": "code",
   "execution_count": 84,
   "metadata": {},
   "outputs": [
    {
     "data": {
      "text/plain": [
       "Index(['TP_PRESENCA_LC', 'NU_NOTA_CN', 'Q024', 'IN_GESTANTE', 'NU_NOTA_COMP2',\n",
       "       'NU_NOTA_COMP1', 'TP_ANO_CONCLUIU', 'NU_NOTA_COMP5', 'Q006',\n",
       "       'TP_COR_RACA', 'Q001', 'TP_NACIONALIDADE', 'TP_LINGUA', 'Q025',\n",
       "       'CO_UF_RESIDENCIA', 'IN_CEGUEIRA', 'TP_ESCOLA', 'TP_PRESENCA_CN',\n",
       "       'NU_IDADE', 'Q027', 'IN_SABATISTA', 'TP_ENSINO', 'TP_PRESENCA_MT',\n",
       "       'NU_NOTA_REDACAO', 'Q047', 'TP_STATUS_REDACAO', 'NU_NOTA_COMP4',\n",
       "       'IN_SURDEZ', 'IN_BAIXA_VISAO', 'NU_NOTA_CH', 'TP_PRESENCA_CH',\n",
       "       'IN_DISCALCULIA', 'IN_DISLEXIA', 'NU_NOTA_LC', 'SG_UF_RESIDENCIA',\n",
       "       'Q002', 'TP_ST_CONCLUSAO', 'Q026', 'TP_SEXO', 'IN_IDOSO',\n",
       "       'NU_NOTA_COMP3', 'NU_INSCRICAO', 'TP_DEPENDENCIA_ADM_ESC',\n",
       "       'IN_TREINEIRO'],\n",
       "      dtype='object')"
      ]
     },
     "execution_count": 84,
     "metadata": {},
     "output_type": "execute_result"
    }
   ],
   "source": [
    "train.columns"
   ]
  },
  {
   "cell_type": "markdown",
   "metadata": {},
   "source": [
    "### Retornar o número das colunas que devem receber o tratamento labelencoder "
   ]
  },
  {
   "cell_type": "code",
   "execution_count": 124,
   "metadata": {},
   "outputs": [],
   "source": [
    "object_features = list(train.select_dtypes(include = 'object').drop('NU_INSCRICAO', axis = 1))"
   ]
  },
  {
   "cell_type": "code",
   "execution_count": 125,
   "metadata": {},
   "outputs": [],
   "source": [
    "feat_le = [train.columns.get_loc(a) for a in object_features]"
   ]
  },
  {
   "cell_type": "code",
   "execution_count": 126,
   "metadata": {},
   "outputs": [
    {
     "data": {
      "text/plain": [
       "[19, 24, 34, 35, 37, 38]"
      ]
     },
     "execution_count": 126,
     "metadata": {},
     "output_type": "execute_result"
    }
   ],
   "source": [
    "feat_le"
   ]
  },
  {
   "cell_type": "code",
   "execution_count": 94,
   "metadata": {},
   "outputs": [],
   "source": [
    "#Portanto deve-se aplicar labelencoder em todas Q001, que seria então\n",
    "#adicionei o sexo\n",
    "train_array = train.values\n",
    "test_array = test.values\n",
    "\n",
    "#As colunas do dataframe que precisam receber o tratamento labelencoder\n",
    "feat_le = [2,30,29,28,27,26,25,24]\n",
    "\n",
    "from sklearn.preprocessing import LabelEncoder\n",
    "labelencoder_previsores = LabelEncoder()  \n",
    "\n",
    "for ft in feat_le:\n",
    "  train_array[:,ft] = labelencoder_previsores.fit_transform(train_array[:,ft])\n",
    "  test_array[:,ft] = labelencoder_previsores.fit_transform(test_array[:,ft])"
   ]
  },
  {
   "cell_type": "code",
   "execution_count": 17,
   "metadata": {
    "colab": {
     "base_uri": "https://localhost:8080/",
     "height": 419
    },
    "colab_type": "code",
    "executionInfo": {
     "elapsed": 4118,
     "status": "ok",
     "timestamp": 1585517066243,
     "user": {
      "displayName": "Vitor Barbosa",
      "photoUrl": "https://lh3.googleusercontent.com/a-/AOh14GhZmKI-3me8Ww9b7Vc3rj_ViazE5Q18KYyaIkNDMw=s64",
      "userId": "12911014457282043333"
     },
     "user_tz": 180
    },
    "id": "yIx0sDo8JjX3",
    "outputId": "dd587a68-69b1-4c71-a6be-752a4076557c"
   },
   "outputs": [
    {
     "data": {
      "text/html": [
       "<div>\n",
       "<style scoped>\n",
       "    .dataframe tbody tr th:only-of-type {\n",
       "        vertical-align: middle;\n",
       "    }\n",
       "\n",
       "    .dataframe tbody tr th {\n",
       "        vertical-align: top;\n",
       "    }\n",
       "\n",
       "    .dataframe thead th {\n",
       "        text-align: right;\n",
       "    }\n",
       "</style>\n",
       "<table border=\"1\" class=\"dataframe\">\n",
       "  <thead>\n",
       "    <tr style=\"text-align: right;\">\n",
       "      <th></th>\n",
       "      <th>0</th>\n",
       "      <th>1</th>\n",
       "      <th>2</th>\n",
       "      <th>3</th>\n",
       "      <th>4</th>\n",
       "      <th>5</th>\n",
       "      <th>6</th>\n",
       "      <th>7</th>\n",
       "      <th>8</th>\n",
       "      <th>9</th>\n",
       "      <th>...</th>\n",
       "      <th>21</th>\n",
       "      <th>22</th>\n",
       "      <th>23</th>\n",
       "      <th>24</th>\n",
       "      <th>25</th>\n",
       "      <th>26</th>\n",
       "      <th>27</th>\n",
       "      <th>28</th>\n",
       "      <th>29</th>\n",
       "      <th>30</th>\n",
       "    </tr>\n",
       "  </thead>\n",
       "  <tbody>\n",
       "    <tr>\n",
       "      <th>0</th>\n",
       "      <td>41</td>\n",
       "      <td>22</td>\n",
       "      <td>0</td>\n",
       "      <td>3</td>\n",
       "      <td>1</td>\n",
       "      <td>1</td>\n",
       "      <td>5</td>\n",
       "      <td>1</td>\n",
       "      <td>0</td>\n",
       "      <td>0</td>\n",
       "      <td>...</td>\n",
       "      <td>80</td>\n",
       "      <td>100</td>\n",
       "      <td>40</td>\n",
       "      <td>1</td>\n",
       "      <td>0</td>\n",
       "      <td>2</td>\n",
       "      <td>0</td>\n",
       "      <td>0</td>\n",
       "      <td>2</td>\n",
       "      <td>0</td>\n",
       "    </tr>\n",
       "    <tr>\n",
       "      <th>1</th>\n",
       "      <td>21</td>\n",
       "      <td>26</td>\n",
       "      <td>0</td>\n",
       "      <td>3</td>\n",
       "      <td>1</td>\n",
       "      <td>1</td>\n",
       "      <td>8</td>\n",
       "      <td>1</td>\n",
       "      <td>0</td>\n",
       "      <td>0</td>\n",
       "      <td>...</td>\n",
       "      <td>120</td>\n",
       "      <td>120</td>\n",
       "      <td>100</td>\n",
       "      <td>4</td>\n",
       "      <td>1</td>\n",
       "      <td>2</td>\n",
       "      <td>1</td>\n",
       "      <td>1</td>\n",
       "      <td>1</td>\n",
       "      <td>0</td>\n",
       "    </tr>\n",
       "    <tr>\n",
       "      <th>2</th>\n",
       "      <td>23</td>\n",
       "      <td>21</td>\n",
       "      <td>1</td>\n",
       "      <td>1</td>\n",
       "      <td>1</td>\n",
       "      <td>2</td>\n",
       "      <td>0</td>\n",
       "      <td>2</td>\n",
       "      <td>0</td>\n",
       "      <td>0</td>\n",
       "      <td>...</td>\n",
       "      <td>40</td>\n",
       "      <td>80</td>\n",
       "      <td>80</td>\n",
       "      <td>4</td>\n",
       "      <td>4</td>\n",
       "      <td>3</td>\n",
       "      <td>1</td>\n",
       "      <td>1</td>\n",
       "      <td>0</td>\n",
       "      <td>0</td>\n",
       "    </tr>\n",
       "    <tr>\n",
       "      <th>3</th>\n",
       "      <td>15</td>\n",
       "      <td>27</td>\n",
       "      <td>0</td>\n",
       "      <td>3</td>\n",
       "      <td>1</td>\n",
       "      <td>1</td>\n",
       "      <td>8</td>\n",
       "      <td>1</td>\n",
       "      <td>0</td>\n",
       "      <td>0</td>\n",
       "      <td>...</td>\n",
       "      <td>NaN</td>\n",
       "      <td>NaN</td>\n",
       "      <td>NaN</td>\n",
       "      <td>7</td>\n",
       "      <td>4</td>\n",
       "      <td>6</td>\n",
       "      <td>1</td>\n",
       "      <td>1</td>\n",
       "      <td>0</td>\n",
       "      <td>0</td>\n",
       "    </tr>\n",
       "    <tr>\n",
       "      <th>4</th>\n",
       "      <td>41</td>\n",
       "      <td>18</td>\n",
       "      <td>1</td>\n",
       "      <td>1</td>\n",
       "      <td>1</td>\n",
       "      <td>2</td>\n",
       "      <td>0</td>\n",
       "      <td>2</td>\n",
       "      <td>0</td>\n",
       "      <td>0</td>\n",
       "      <td>...</td>\n",
       "      <td>60</td>\n",
       "      <td>80</td>\n",
       "      <td>0</td>\n",
       "      <td>3</td>\n",
       "      <td>7</td>\n",
       "      <td>7</td>\n",
       "      <td>2</td>\n",
       "      <td>1</td>\n",
       "      <td>0</td>\n",
       "      <td>0</td>\n",
       "    </tr>\n",
       "    <tr>\n",
       "      <th>...</th>\n",
       "      <td>...</td>\n",
       "      <td>...</td>\n",
       "      <td>...</td>\n",
       "      <td>...</td>\n",
       "      <td>...</td>\n",
       "      <td>...</td>\n",
       "      <td>...</td>\n",
       "      <td>...</td>\n",
       "      <td>...</td>\n",
       "      <td>...</td>\n",
       "      <td>...</td>\n",
       "      <td>...</td>\n",
       "      <td>...</td>\n",
       "      <td>...</td>\n",
       "      <td>...</td>\n",
       "      <td>...</td>\n",
       "      <td>...</td>\n",
       "      <td>...</td>\n",
       "      <td>...</td>\n",
       "      <td>...</td>\n",
       "      <td>...</td>\n",
       "    </tr>\n",
       "    <tr>\n",
       "      <th>4571</th>\n",
       "      <td>41</td>\n",
       "      <td>17</td>\n",
       "      <td>0</td>\n",
       "      <td>1</td>\n",
       "      <td>1</td>\n",
       "      <td>2</td>\n",
       "      <td>0</td>\n",
       "      <td>2</td>\n",
       "      <td>0</td>\n",
       "      <td>0</td>\n",
       "      <td>...</td>\n",
       "      <td>120</td>\n",
       "      <td>100</td>\n",
       "      <td>40</td>\n",
       "      <td>4</td>\n",
       "      <td>4</td>\n",
       "      <td>3</td>\n",
       "      <td>0</td>\n",
       "      <td>1</td>\n",
       "      <td>0</td>\n",
       "      <td>0</td>\n",
       "    </tr>\n",
       "    <tr>\n",
       "      <th>4572</th>\n",
       "      <td>35</td>\n",
       "      <td>17</td>\n",
       "      <td>1</td>\n",
       "      <td>2</td>\n",
       "      <td>1</td>\n",
       "      <td>2</td>\n",
       "      <td>0</td>\n",
       "      <td>2</td>\n",
       "      <td>0</td>\n",
       "      <td>0</td>\n",
       "      <td>...</td>\n",
       "      <td>100</td>\n",
       "      <td>120</td>\n",
       "      <td>100</td>\n",
       "      <td>2</td>\n",
       "      <td>2</td>\n",
       "      <td>2</td>\n",
       "      <td>0</td>\n",
       "      <td>0</td>\n",
       "      <td>0</td>\n",
       "      <td>0</td>\n",
       "    </tr>\n",
       "    <tr>\n",
       "      <th>4573</th>\n",
       "      <td>35</td>\n",
       "      <td>19</td>\n",
       "      <td>1</td>\n",
       "      <td>1</td>\n",
       "      <td>1</td>\n",
       "      <td>1</td>\n",
       "      <td>2</td>\n",
       "      <td>1</td>\n",
       "      <td>0</td>\n",
       "      <td>0</td>\n",
       "      <td>...</td>\n",
       "      <td>120</td>\n",
       "      <td>140</td>\n",
       "      <td>80</td>\n",
       "      <td>3</td>\n",
       "      <td>5</td>\n",
       "      <td>3</td>\n",
       "      <td>1</td>\n",
       "      <td>1</td>\n",
       "      <td>0</td>\n",
       "      <td>3</td>\n",
       "    </tr>\n",
       "    <tr>\n",
       "      <th>4574</th>\n",
       "      <td>52</td>\n",
       "      <td>17</td>\n",
       "      <td>1</td>\n",
       "      <td>2</td>\n",
       "      <td>2</td>\n",
       "      <td>3</td>\n",
       "      <td>0</td>\n",
       "      <td>1</td>\n",
       "      <td>1</td>\n",
       "      <td>0</td>\n",
       "      <td>...</td>\n",
       "      <td>80</td>\n",
       "      <td>140</td>\n",
       "      <td>80</td>\n",
       "      <td>2</td>\n",
       "      <td>4</td>\n",
       "      <td>2</td>\n",
       "      <td>0</td>\n",
       "      <td>0</td>\n",
       "      <td>0</td>\n",
       "      <td>0</td>\n",
       "    </tr>\n",
       "    <tr>\n",
       "      <th>4575</th>\n",
       "      <td>33</td>\n",
       "      <td>30</td>\n",
       "      <td>1</td>\n",
       "      <td>1</td>\n",
       "      <td>1</td>\n",
       "      <td>1</td>\n",
       "      <td>10</td>\n",
       "      <td>1</td>\n",
       "      <td>0</td>\n",
       "      <td>0</td>\n",
       "      <td>...</td>\n",
       "      <td>NaN</td>\n",
       "      <td>NaN</td>\n",
       "      <td>NaN</td>\n",
       "      <td>2</td>\n",
       "      <td>2</td>\n",
       "      <td>0</td>\n",
       "      <td>1</td>\n",
       "      <td>1</td>\n",
       "      <td>1</td>\n",
       "      <td>0</td>\n",
       "    </tr>\n",
       "  </tbody>\n",
       "</table>\n",
       "<p>4576 rows × 31 columns</p>\n",
       "</div>"
      ],
      "text/plain": [
       "      0   1  2  3  4  5   6  7  8  9   ...   21   22   23 24 25 26 27 28 29 30\n",
       "0     41  22  0  3  1  1   5  1  0  0  ...   80  100   40  1  0  2  0  0  2  0\n",
       "1     21  26  0  3  1  1   8  1  0  0  ...  120  120  100  4  1  2  1  1  1  0\n",
       "2     23  21  1  1  1  2   0  2  0  0  ...   40   80   80  4  4  3  1  1  0  0\n",
       "3     15  27  0  3  1  1   8  1  0  0  ...  NaN  NaN  NaN  7  4  6  1  1  0  0\n",
       "4     41  18  1  1  1  2   0  2  0  0  ...   60   80    0  3  7  7  2  1  0  0\n",
       "...   ..  .. .. .. .. ..  .. .. .. ..  ...  ...  ...  ... .. .. .. .. .. .. ..\n",
       "4571  41  17  0  1  1  2   0  2  0  0  ...  120  100   40  4  4  3  0  1  0  0\n",
       "4572  35  17  1  2  1  2   0  2  0  0  ...  100  120  100  2  2  2  0  0  0  0\n",
       "4573  35  19  1  1  1  1   2  1  0  0  ...  120  140   80  3  5  3  1  1  0  3\n",
       "4574  52  17  1  2  2  3   0  1  1  0  ...   80  140   80  2  4  2  0  0  0  0\n",
       "4575  33  30  1  1  1  1  10  1  0  0  ...  NaN  NaN  NaN  2  2  0  1  1  1  0\n",
       "\n",
       "[4576 rows x 31 columns]"
      ]
     },
     "execution_count": 17,
     "metadata": {},
     "output_type": "execute_result"
    }
   ],
   "source": [
    "#Célula escrava de visualização\n",
    "pd.DataFrame(test_array)"
   ]
  },
  {
   "cell_type": "code",
   "execution_count": 18,
   "metadata": {
    "colab": {},
    "colab_type": "code",
    "id": "eR72XLhg8W1p"
   },
   "outputs": [],
   "source": [
    "from sklearn.impute import SimpleImputer\n",
    "train_imputer = SimpleImputer(missing_values=np.nan, strategy='constant',fill_value = 0)\n",
    "test_imputer = SimpleImputer(missing_values=np.nan, strategy='constant',fill_value = 0)\n",
    "\n",
    "train_array = train_imputer.fit_transform(train_array)\n",
    "test_array = test_imputer.fit_transform(test_array)\n",
    "\n"
   ]
  },
  {
   "cell_type": "code",
   "execution_count": 19,
   "metadata": {
    "colab": {},
    "colab_type": "code",
    "id": "IxHSIiGTIwAH"
   },
   "outputs": [],
   "source": [
    "df_train_array = pd.DataFrame(train_array)\n",
    "df_test_array = pd.DataFrame(test_array)"
   ]
  },
  {
   "cell_type": "code",
   "execution_count": 20,
   "metadata": {
    "colab": {
     "base_uri": "https://localhost:8080/",
     "height": 544
    },
    "colab_type": "code",
    "executionInfo": {
     "elapsed": 2909,
     "status": "ok",
     "timestamp": 1585517066249,
     "user": {
      "displayName": "Vitor Barbosa",
      "photoUrl": "https://lh3.googleusercontent.com/a-/AOh14GhZmKI-3me8Ww9b7Vc3rj_ViazE5Q18KYyaIkNDMw=s64",
      "userId": "12911014457282043333"
     },
     "user_tz": 180
    },
    "id": "ixaYVL3bKjjx",
    "outputId": "2e2304d9-26dc-4a1f-bbe2-61031c63e10b"
   },
   "outputs": [
    {
     "data": {
      "text/plain": [
       "['CO_UF_RESIDENCIA',\n",
       " 'NU_IDADE',\n",
       " 'TP_SEXO',\n",
       " 'TP_COR_RACA',\n",
       " 'TP_NACIONALIDADE',\n",
       " 'TP_ST_CONCLUSAO',\n",
       " 'TP_ANO_CONCLUIU',\n",
       " 'TP_ESCOLA',\n",
       " 'IN_TREINEIRO',\n",
       " 'IN_CEGUEIRA',\n",
       " 'IN_SURDEZ',\n",
       " 'IN_DISLEXIA',\n",
       " 'IN_DISCALCULIA',\n",
       " 'TP_PRESENCA_CN',\n",
       " 'TP_PRESENCA_LC',\n",
       " 'NU_NOTA_CN',\n",
       " 'NU_NOTA_CH',\n",
       " 'NU_NOTA_LC',\n",
       " 'TP_LINGUA',\n",
       " 'NU_NOTA_COMP1',\n",
       " 'NU_NOTA_COMP2',\n",
       " 'NU_NOTA_COMP3',\n",
       " 'NU_NOTA_COMP4',\n",
       " 'NU_NOTA_COMP5',\n",
       " 'Q001',\n",
       " 'Q002',\n",
       " 'Q006',\n",
       " 'Q024',\n",
       " 'Q025',\n",
       " 'Q026',\n",
       " 'Q047']"
      ]
     },
     "execution_count": 20,
     "metadata": {},
     "output_type": "execute_result"
    }
   ],
   "source": [
    "df_train_array.columns = list(train)\n",
    "df_test_array.columns = list(test)\n",
    "\n",
    "list(df_test_array)"
   ]
  },
  {
   "cell_type": "code",
   "execution_count": 21,
   "metadata": {
    "colab": {},
    "colab_type": "code",
    "id": "xN7ywQMvJFEx"
   },
   "outputs": [],
   "source": [
    "from sklearn.preprocessing import StandardScaler\n",
    "scaler_y = StandardScaler()\n",
    "scaler_x = StandardScaler()\n",
    "\n",
    "df_esquerdo = df_train_array.drop(['NU_NOTA_CN','NU_NOTA_CH','NU_NOTA_LC','NU_NOTA_COMP1','NU_NOTA_COMP2','NU_NOTA_COMP3','NU_NOTA_COMP4','NU_NOTA_COMP5','NU_NOTA_MT'], axis=1)\n",
    "df_test_esquerdo = df_test_array.drop(['NU_NOTA_CN','NU_NOTA_CH','NU_NOTA_LC','NU_NOTA_COMP1','NU_NOTA_COMP2','NU_NOTA_COMP3','NU_NOTA_COMP4','NU_NOTA_COMP5'], axis=1)\n",
    "\n",
    "#Divisão entre previsores e target\n",
    "df_direito_x = scaler_x.fit_transform(df_train_array[['NU_NOTA_CN','NU_NOTA_CH','NU_NOTA_LC','NU_NOTA_COMP1','NU_NOTA_COMP2','NU_NOTA_COMP3','NU_NOTA_COMP4','NU_NOTA_COMP5']])\n",
    "df_test_direito = scaler_x.fit_transform(df_test_array[['NU_NOTA_CN','NU_NOTA_CH','NU_NOTA_LC','NU_NOTA_COMP1','NU_NOTA_COMP2','NU_NOTA_COMP3','NU_NOTA_COMP4','NU_NOTA_COMP5']])\n",
    "\n",
    "df_direito_y = scaler_y.fit_transform(df_train_array[['NU_NOTA_MT']])\n",
    "\n",
    "\n",
    "\n",
    "#Retornando para o formato DataFrame\n",
    "df_direito_x = pd.DataFrame(df_direito_x)\n",
    "df_direito_y = pd.DataFrame(df_direito_y)\n",
    "df_test_direito = pd.DataFrame(df_test_direito)\n",
    "\n",
    "#Voltar para os nomes das colunas\n",
    "df_direito_x.columns = ['NU_NOTA_CN','NU_NOTA_CH','NU_NOTA_LC','NU_NOTA_COMP1','NU_NOTA_COMP2','NU_NOTA_COMP3','NU_NOTA_COMP4','NU_NOTA_COMP5']\n",
    "df_direito_y.columns = ['NU_NOTA_MT']\n",
    "\n",
    "#submission\n",
    "df_test_direito.columns = ['NU_NOTA_CN','NU_NOTA_CH','NU_NOTA_LC','NU_NOTA_COMP1','NU_NOTA_COMP2','NU_NOTA_COMP3','NU_NOTA_COMP4','NU_NOTA_COMP5']"
   ]
  },
  {
   "cell_type": "code",
   "execution_count": 22,
   "metadata": {
    "colab": {
     "base_uri": "https://localhost:8080/",
     "height": 224
    },
    "colab_type": "code",
    "executionInfo": {
     "elapsed": 1412,
     "status": "ok",
     "timestamp": 1585517069965,
     "user": {
      "displayName": "Vitor Barbosa",
      "photoUrl": "https://lh3.googleusercontent.com/a-/AOh14GhZmKI-3me8Ww9b7Vc3rj_ViazE5Q18KYyaIkNDMw=s64",
      "userId": "12911014457282043333"
     },
     "user_tz": 180
    },
    "id": "_1wRU7FnO61y",
    "outputId": "b5678fc9-2519-49d1-e138-1922fec36d00"
   },
   "outputs": [
    {
     "data": {
      "text/html": [
       "<div>\n",
       "<style scoped>\n",
       "    .dataframe tbody tr th:only-of-type {\n",
       "        vertical-align: middle;\n",
       "    }\n",
       "\n",
       "    .dataframe tbody tr th {\n",
       "        vertical-align: top;\n",
       "    }\n",
       "\n",
       "    .dataframe thead th {\n",
       "        text-align: right;\n",
       "    }\n",
       "</style>\n",
       "<table border=\"1\" class=\"dataframe\">\n",
       "  <thead>\n",
       "    <tr style=\"text-align: right;\">\n",
       "      <th></th>\n",
       "      <th>CO_UF_RESIDENCIA</th>\n",
       "      <th>NU_IDADE</th>\n",
       "      <th>TP_SEXO</th>\n",
       "      <th>TP_COR_RACA</th>\n",
       "      <th>TP_NACIONALIDADE</th>\n",
       "      <th>TP_ST_CONCLUSAO</th>\n",
       "      <th>TP_ANO_CONCLUIU</th>\n",
       "      <th>TP_ESCOLA</th>\n",
       "      <th>IN_TREINEIRO</th>\n",
       "      <th>IN_CEGUEIRA</th>\n",
       "      <th>...</th>\n",
       "      <th>Q026</th>\n",
       "      <th>Q047</th>\n",
       "      <th>NU_NOTA_CN</th>\n",
       "      <th>NU_NOTA_CH</th>\n",
       "      <th>NU_NOTA_LC</th>\n",
       "      <th>NU_NOTA_COMP1</th>\n",
       "      <th>NU_NOTA_COMP2</th>\n",
       "      <th>NU_NOTA_COMP3</th>\n",
       "      <th>NU_NOTA_COMP4</th>\n",
       "      <th>NU_NOTA_COMP5</th>\n",
       "    </tr>\n",
       "  </thead>\n",
       "  <tbody>\n",
       "    <tr>\n",
       "      <th>0</th>\n",
       "      <td>41</td>\n",
       "      <td>22</td>\n",
       "      <td>0</td>\n",
       "      <td>3</td>\n",
       "      <td>1</td>\n",
       "      <td>1</td>\n",
       "      <td>5</td>\n",
       "      <td>1</td>\n",
       "      <td>0</td>\n",
       "      <td>0</td>\n",
       "      <td>...</td>\n",
       "      <td>2</td>\n",
       "      <td>0</td>\n",
       "      <td>0.510496</td>\n",
       "      <td>0.191676</td>\n",
       "      <td>0.223766</td>\n",
       "      <td>0.544849</td>\n",
       "      <td>-0.045534</td>\n",
       "      <td>0.027062</td>\n",
       "      <td>0.291646</td>\n",
       "      <td>-0.331801</td>\n",
       "    </tr>\n",
       "    <tr>\n",
       "      <th>1</th>\n",
       "      <td>21</td>\n",
       "      <td>26</td>\n",
       "      <td>0</td>\n",
       "      <td>3</td>\n",
       "      <td>1</td>\n",
       "      <td>1</td>\n",
       "      <td>8</td>\n",
       "      <td>1</td>\n",
       "      <td>0</td>\n",
       "      <td>0</td>\n",
       "      <td>...</td>\n",
       "      <td>1</td>\n",
       "      <td>0</td>\n",
       "      <td>0.165053</td>\n",
       "      <td>0.392431</td>\n",
       "      <td>0.721372</td>\n",
       "      <td>0.544849</td>\n",
       "      <td>0.657208</td>\n",
       "      <td>0.753374</td>\n",
       "      <td>0.641011</td>\n",
       "      <td>0.868136</td>\n",
       "    </tr>\n",
       "    <tr>\n",
       "      <th>2</th>\n",
       "      <td>23</td>\n",
       "      <td>21</td>\n",
       "      <td>1</td>\n",
       "      <td>1</td>\n",
       "      <td>1</td>\n",
       "      <td>2</td>\n",
       "      <td>0</td>\n",
       "      <td>2</td>\n",
       "      <td>0</td>\n",
       "      <td>0</td>\n",
       "      <td>...</td>\n",
       "      <td>0</td>\n",
       "      <td>0</td>\n",
       "      <td>1.124982</td>\n",
       "      <td>0.947462</td>\n",
       "      <td>1.002292</td>\n",
       "      <td>-0.142275</td>\n",
       "      <td>-0.748276</td>\n",
       "      <td>-0.699250</td>\n",
       "      <td>-0.057718</td>\n",
       "      <td>0.468157</td>\n",
       "    </tr>\n",
       "    <tr>\n",
       "      <th>3</th>\n",
       "      <td>15</td>\n",
       "      <td>27</td>\n",
       "      <td>0</td>\n",
       "      <td>3</td>\n",
       "      <td>1</td>\n",
       "      <td>1</td>\n",
       "      <td>8</td>\n",
       "      <td>1</td>\n",
       "      <td>0</td>\n",
       "      <td>0</td>\n",
       "      <td>...</td>\n",
       "      <td>0</td>\n",
       "      <td>0</td>\n",
       "      <td>-1.668093</td>\n",
       "      <td>-1.678811</td>\n",
       "      <td>-1.625341</td>\n",
       "      <td>-1.516522</td>\n",
       "      <td>-1.451018</td>\n",
       "      <td>-1.425562</td>\n",
       "      <td>-1.455177</td>\n",
       "      <td>-1.131758</td>\n",
       "    </tr>\n",
       "    <tr>\n",
       "      <th>4</th>\n",
       "      <td>41</td>\n",
       "      <td>18</td>\n",
       "      <td>1</td>\n",
       "      <td>1</td>\n",
       "      <td>1</td>\n",
       "      <td>2</td>\n",
       "      <td>0</td>\n",
       "      <td>2</td>\n",
       "      <td>0</td>\n",
       "      <td>0</td>\n",
       "      <td>...</td>\n",
       "      <td>0</td>\n",
       "      <td>0</td>\n",
       "      <td>1.110920</td>\n",
       "      <td>0.398758</td>\n",
       "      <td>0.821578</td>\n",
       "      <td>0.201287</td>\n",
       "      <td>-0.045534</td>\n",
       "      <td>-0.336094</td>\n",
       "      <td>-0.057718</td>\n",
       "      <td>-1.131758</td>\n",
       "    </tr>\n",
       "  </tbody>\n",
       "</table>\n",
       "<p>5 rows × 31 columns</p>\n",
       "</div>"
      ],
      "text/plain": [
       "  CO_UF_RESIDENCIA NU_IDADE TP_SEXO TP_COR_RACA TP_NACIONALIDADE  \\\n",
       "0               41       22       0           3                1   \n",
       "1               21       26       0           3                1   \n",
       "2               23       21       1           1                1   \n",
       "3               15       27       0           3                1   \n",
       "4               41       18       1           1                1   \n",
       "\n",
       "  TP_ST_CONCLUSAO TP_ANO_CONCLUIU TP_ESCOLA IN_TREINEIRO IN_CEGUEIRA  ...  \\\n",
       "0               1               5         1            0           0  ...   \n",
       "1               1               8         1            0           0  ...   \n",
       "2               2               0         2            0           0  ...   \n",
       "3               1               8         1            0           0  ...   \n",
       "4               2               0         2            0           0  ...   \n",
       "\n",
       "  Q026 Q047 NU_NOTA_CN NU_NOTA_CH NU_NOTA_LC NU_NOTA_COMP1 NU_NOTA_COMP2  \\\n",
       "0    2    0   0.510496   0.191676   0.223766      0.544849     -0.045534   \n",
       "1    1    0   0.165053   0.392431   0.721372      0.544849      0.657208   \n",
       "2    0    0   1.124982   0.947462   1.002292     -0.142275     -0.748276   \n",
       "3    0    0  -1.668093  -1.678811  -1.625341     -1.516522     -1.451018   \n",
       "4    0    0   1.110920   0.398758   0.821578      0.201287     -0.045534   \n",
       "\n",
       "  NU_NOTA_COMP3 NU_NOTA_COMP4 NU_NOTA_COMP5  \n",
       "0      0.027062      0.291646     -0.331801  \n",
       "1      0.753374      0.641011      0.868136  \n",
       "2     -0.699250     -0.057718      0.468157  \n",
       "3     -1.425562     -1.455177     -1.131758  \n",
       "4     -0.336094     -0.057718     -1.131758  \n",
       "\n",
       "[5 rows x 31 columns]"
      ]
     },
     "execution_count": 22,
     "metadata": {},
     "output_type": "execute_result"
    }
   ],
   "source": [
    "#Merge train\n",
    "df_partial = df_esquerdo.join(df_direito_x)\n",
    "df_merged = df_partial.join(df_direito_y)\n",
    "\n",
    "# df_merged.head()\n",
    "df_test_merged = df_test_esquerdo.join(df_test_direito)\n",
    "df_test_merged.head()\n"
   ]
  },
  {
   "cell_type": "code",
   "execution_count": 23,
   "metadata": {
    "colab": {},
    "colab_type": "code",
    "id": "-51ZmIgVNNXV"
   },
   "outputs": [],
   "source": [
    "x = df_merged.drop('NU_NOTA_MT',axis=1)\n",
    "y = df_merged[['NU_NOTA_MT']]"
   ]
  },
  {
   "cell_type": "code",
   "execution_count": 24,
   "metadata": {
    "colab": {},
    "colab_type": "code",
    "id": "YhxklDVVIuUO"
   },
   "outputs": [],
   "source": [
    "from sklearn.model_selection import train_test_split\n",
    "\n",
    "# Separando os dados em treinamento e teste\n",
    "x_train, x_test, y_train, y_test = train_test_split(x, y, test_size=0.30, random_state=47)"
   ]
  },
  {
   "cell_type": "code",
   "execution_count": 25,
   "metadata": {
    "colab": {
     "base_uri": "https://localhost:8080/",
     "height": 702
    },
    "colab_type": "code",
    "executionInfo": {
     "elapsed": 7723,
     "status": "ok",
     "timestamp": 1585510887549,
     "user": {
      "displayName": "Thaís Vaz",
      "photoUrl": "https://lh3.googleusercontent.com/a-/AOh14GhofKRTXndlav4G33EUaKSmAyFZNrhC0Tg9GrRlVQ=s64",
      "userId": "07470119767891516907"
     },
     "user_tz": 180
    },
    "id": "16GfVQDAt8Y3",
    "outputId": "04269a27-2ccf-47d1-8126-dc9601842b05"
   },
   "outputs": [
    {
     "data": {
      "text/plain": [
       "<matplotlib.axes._subplots.AxesSubplot at 0x7f85f123bc50>"
      ]
     },
     "execution_count": 25,
     "metadata": {},
     "output_type": "execute_result"
    },
    {
     "data": {
      "image/png": "[encoded data removed]",
      "text/plain": [
       "<Figure size 1296x720 with 2 Axes>"
      ]
     },
     "metadata": {
      "needs_background": "light"
     },
     "output_type": "display_data"
    }
   ],
   "source": [
    "corr = train.corr()\n",
    "ax = plt.subplots(figsize=(18, 10))\n",
    "sns.heatmap(corr,  annot=True, annot_kws={\"size\": 10})"
   ]
  },
  {
   "cell_type": "code",
   "execution_count": 28,
   "metadata": {},
   "outputs": [],
   "source": [
    "from sklearn.metrics import r2_score, mean_absolute_error"
   ]
  },
  {
   "cell_type": "markdown",
   "metadata": {},
   "source": [
    "# Lasso Regression"
   ]
  },
  {
   "cell_type": "code",
   "execution_count": 45,
   "metadata": {},
   "outputs": [],
   "source": [
    "from sklearn.linear_model import Lasso, Ridge"
   ]
  },
  {
   "cell_type": "code",
   "execution_count": 46,
   "metadata": {},
   "outputs": [
    {
     "data": {
      "text/plain": [
       "0.9072668711581081"
      ]
     },
     "execution_count": 46,
     "metadata": {},
     "output_type": "execute_result"
    }
   ],
   "source": [
    "lasso = Lasso(alpha = 0.01)\n",
    "\n",
    "lasso.fit(x_train,y_train)\n",
    "\n",
    "acuracia_teste = r2_score(y_test, lasso.predict(x_test));\n",
    "acuracia_teste"
   ]
  },
  {
   "cell_type": "code",
   "execution_count": 47,
   "metadata": {},
   "outputs": [
    {
     "data": {
      "text/plain": [
       "0.914418792249293"
      ]
     },
     "execution_count": 47,
     "metadata": {},
     "output_type": "execute_result"
    }
   ],
   "source": [
    "ridge = Ridge()\n",
    "\n",
    "ridge.fit(x_train,y_train)\n",
    "\n",
    "acuracia_teste = r2_score(y_test, ridge.predict(x_test));\n",
    "acuracia_teste"
   ]
  },
  {
   "cell_type": "markdown",
   "metadata": {
    "colab_type": "text",
    "id": "Xhtf8cS9wy8o"
   },
   "source": [
    "Modelo Random Forest"
   ]
  },
  {
   "cell_type": "code",
   "execution_count": 27,
   "metadata": {
    "colab": {},
    "colab_type": "code",
    "id": "7Wu2TmWDYpaU"
   },
   "outputs": [],
   "source": [
    "from sklearn.model_selection import cross_val_score, GridSearchCV\n",
    "from sklearn.ensemble import RandomForestRegressor\n",
    "from sklearn.preprocessing import MinMaxScaler"
   ]
  },
  {
   "cell_type": "code",
   "execution_count": 35,
   "metadata": {
    "colab": {},
    "colab_type": "code",
    "id": "yqM3uUoTw1Gw"
   },
   "outputs": [],
   "source": [
    "regressor =  RandomForestRegressor(n_estimators=500,\n",
    "                                   max_depth=100,\n",
    "                                   random_state=42)"
   ]
  },
  {
   "cell_type": "code",
   "execution_count": 36,
   "metadata": {
    "colab": {
     "base_uri": "https://localhost:8080/",
     "height": 170
    },
    "colab_type": "code",
    "executionInfo": {
     "elapsed": 70349,
     "status": "ok",
     "timestamp": 1585517201791,
     "user": {
      "displayName": "Vitor Barbosa",
      "photoUrl": "https://lh3.googleusercontent.com/a-/AOh14GhZmKI-3me8Ww9b7Vc3rj_ViazE5Q18KYyaIkNDMw=s64",
      "userId": "12911014457282043333"
     },
     "user_tz": 180
    },
    "id": "2MJx4pT7xEuB",
    "outputId": "e57979c9-8f31-494f-8b02-c5dfb3384937"
   },
   "outputs": [
    {
     "name": "stderr",
     "output_type": "stream",
     "text": [
      "/home/vitor/anaconda3/lib/python3.7/site-packages/ipykernel_launcher.py:2: DataConversionWarning: A column-vector y was passed when a 1d array was expected. Please change the shape of y to (n_samples,), for example using ravel().\n",
      "  \n"
     ]
    },
    {
     "data": {
      "text/plain": [
       "RandomForestRegressor(bootstrap=True, ccp_alpha=0.0, criterion='mse',\n",
       "                      max_depth=100, max_features='auto', max_leaf_nodes=None,\n",
       "                      max_samples=None, min_impurity_decrease=0.0,\n",
       "                      min_impurity_split=None, min_samples_leaf=1,\n",
       "                      min_samples_split=2, min_weight_fraction_leaf=0.0,\n",
       "                      n_estimators=500, n_jobs=None, oob_score=False,\n",
       "                      random_state=42, verbose=0, warm_start=False)"
      ]
     },
     "execution_count": 36,
     "metadata": {},
     "output_type": "execute_result"
    }
   ],
   "source": [
    "#treinando o modelo\n",
    "regressor.fit(x_train,y_train)"
   ]
  },
  {
   "cell_type": "code",
   "execution_count": 37,
   "metadata": {
    "colab": {
     "base_uri": "https://localhost:8080/",
     "height": 34
    },
    "colab_type": "code",
    "executionInfo": {
     "elapsed": 67465,
     "status": "ok",
     "timestamp": 1585517202740,
     "user": {
      "displayName": "Vitor Barbosa",
      "photoUrl": "https://lh3.googleusercontent.com/a-/AOh14GhZmKI-3me8Ww9b7Vc3rj_ViazE5Q18KYyaIkNDMw=s64",
      "userId": "12911014457282043333"
     },
     "user_tz": 180
    },
    "id": "LlwgTru2EEFn",
    "outputId": "992973b6-d2ec-45bd-efa2-c45198efee0a"
   },
   "outputs": [
    {
     "data": {
      "text/plain": [
       "0.9234331796168234"
      ]
     },
     "execution_count": 37,
     "metadata": {},
     "output_type": "execute_result"
    }
   ],
   "source": [
    "\n",
    "acuracia_teste = r2_score((y_test),(regressor.predict(x_test)))\n",
    "acuracia_teste"
   ]
  },
  {
   "cell_type": "code",
   "execution_count": 38,
   "metadata": {
    "colab": {},
    "colab_type": "code",
    "id": "9Pug-CGWEEIS"
   },
   "outputs": [],
   "source": [
    "previsoes = scaler_y.inverse_transform(regressor.predict(x_test))\n"
   ]
  },
  {
   "cell_type": "code",
   "execution_count": 39,
   "metadata": {
    "colab": {
     "base_uri": "https://localhost:8080/",
     "height": 282
    },
    "colab_type": "code",
    "executionInfo": {
     "elapsed": 1036,
     "status": "ok",
     "timestamp": 1585517241968,
     "user": {
      "displayName": "Vitor Barbosa",
      "photoUrl": "https://lh3.googleusercontent.com/a-/AOh14GhZmKI-3me8Ww9b7Vc3rj_ViazE5Q18KYyaIkNDMw=s64",
      "userId": "12911014457282043333"
     },
     "user_tz": 180
    },
    "id": "QbnuxCzLUZ-U",
    "outputId": "99e6a908-14b4-416d-f535-48b4e5c1e58f"
   },
   "outputs": [
    {
     "data": {
      "text/plain": [
       "<matplotlib.collections.PathCollection at 0x7f4890b44390>"
      ]
     },
     "execution_count": 39,
     "metadata": {},
     "output_type": "execute_result"
    },
    {
     "data": {
      "image/png": "[encoded data removed]",
      "text/plain": [
       "<Figure size 432x288 with 1 Axes>"
      ]
     },
     "metadata": {
      "needs_background": "light"
     },
     "output_type": "display_data"
    }
   ],
   "source": [
    "plt.scatter(scaler_y.inverse_transform(y_test), previsoes)"
   ]
  },
  {
   "cell_type": "code",
   "execution_count": 40,
   "metadata": {
    "colab": {},
    "colab_type": "code",
    "id": "39DuASaGDt9y"
   },
   "outputs": [],
   "source": [
    "#Aplicação no submission:\n",
    "notas_test = scaler_y.inverse_transform(regressor.predict(df_test_merged))"
   ]
  },
  {
   "cell_type": "code",
   "execution_count": 41,
   "metadata": {
    "colab": {
     "base_uri": "https://localhost:8080/",
     "height": 419
    },
    "colab_type": "code",
    "executionInfo": {
     "elapsed": 1108,
     "status": "ok",
     "timestamp": 1585517245863,
     "user": {
      "displayName": "Vitor Barbosa",
      "photoUrl": "https://lh3.googleusercontent.com/a-/AOh14GhZmKI-3me8Ww9b7Vc3rj_ViazE5Q18KYyaIkNDMw=s64",
      "userId": "12911014457282043333"
     },
     "user_tz": 180
    },
    "id": "NrwMXtYVZdsV",
    "outputId": "e756e7f4-91f3-4be9-c170-bce6e74ee10d"
   },
   "outputs": [
    {
     "data": {
      "text/html": [
       "<div>\n",
       "<style scoped>\n",
       "    .dataframe tbody tr th:only-of-type {\n",
       "        vertical-align: middle;\n",
       "    }\n",
       "\n",
       "    .dataframe tbody tr th {\n",
       "        vertical-align: top;\n",
       "    }\n",
       "\n",
       "    .dataframe thead th {\n",
       "        text-align: right;\n",
       "    }\n",
       "</style>\n",
       "<table border=\"1\" class=\"dataframe\">\n",
       "  <thead>\n",
       "    <tr style=\"text-align: right;\">\n",
       "      <th></th>\n",
       "      <th>0</th>\n",
       "    </tr>\n",
       "  </thead>\n",
       "  <tbody>\n",
       "    <tr>\n",
       "      <th>0</th>\n",
       "      <td>4.214224e+02</td>\n",
       "    </tr>\n",
       "    <tr>\n",
       "      <th>1</th>\n",
       "      <td>4.366169e+02</td>\n",
       "    </tr>\n",
       "    <tr>\n",
       "      <th>2</th>\n",
       "      <td>5.937135e+02</td>\n",
       "    </tr>\n",
       "    <tr>\n",
       "      <th>3</th>\n",
       "      <td>6.707523e-12</td>\n",
       "    </tr>\n",
       "    <tr>\n",
       "      <th>4</th>\n",
       "      <td>5.565102e+02</td>\n",
       "    </tr>\n",
       "    <tr>\n",
       "      <th>...</th>\n",
       "      <td>...</td>\n",
       "    </tr>\n",
       "    <tr>\n",
       "      <th>4571</th>\n",
       "      <td>4.622799e+02</td>\n",
       "    </tr>\n",
       "    <tr>\n",
       "      <th>4572</th>\n",
       "      <td>4.877230e+02</td>\n",
       "    </tr>\n",
       "    <tr>\n",
       "      <th>4573</th>\n",
       "      <td>6.874981e+02</td>\n",
       "    </tr>\n",
       "    <tr>\n",
       "      <th>4574</th>\n",
       "      <td>4.697956e+02</td>\n",
       "    </tr>\n",
       "    <tr>\n",
       "      <th>4575</th>\n",
       "      <td>6.707523e-12</td>\n",
       "    </tr>\n",
       "  </tbody>\n",
       "</table>\n",
       "<p>4576 rows × 1 columns</p>\n",
       "</div>"
      ],
      "text/plain": [
       "                 0\n",
       "0     4.214224e+02\n",
       "1     4.366169e+02\n",
       "2     5.937135e+02\n",
       "3     6.707523e-12\n",
       "4     5.565102e+02\n",
       "...            ...\n",
       "4571  4.622799e+02\n",
       "4572  4.877230e+02\n",
       "4573  6.874981e+02\n",
       "4574  4.697956e+02\n",
       "4575  6.707523e-12\n",
       "\n",
       "[4576 rows x 1 columns]"
      ]
     },
     "execution_count": 41,
     "metadata": {},
     "output_type": "execute_result"
    }
   ],
   "source": [
    "notas_test = pd.DataFrame(notas_test)\n",
    "notas_test"
   ]
  },
  {
   "cell_type": "markdown",
   "metadata": {
    "colab_type": "text",
    "id": "iL-hXzErfhNC"
   },
   "source": [
    "### Resposta Final"
   ]
  },
  {
   "cell_type": "code",
   "execution_count": 42,
   "metadata": {
    "colab": {},
    "colab_type": "code",
    "id": "tiOG4bW2byUw"
   },
   "outputs": [],
   "source": [
    "#df_partial = df_esquerdo.join(df_direito_x)\n",
    "#df_merged = df_partial.join(df_direito_y)\n",
    "test_submit = pd.read_csv('test.csv')\n",
    "df2=test_submit[['NU_INSCRICAO','TP_PRESENCA_LC']]\n",
    "test_nota= df2.join(notas_test)\n",
    "\n",
    "test_nota.columns = list(['NU_INSCRICAO','TP_PRESENCA_LC','NU_NOTA_MT'])"
   ]
  },
  {
   "cell_type": "code",
   "execution_count": 43,
   "metadata": {
    "colab": {},
    "colab_type": "code",
    "id": "rnxS_uGwe4-l"
   },
   "outputs": [],
   "source": [
    "test_nota['NU_NOTA_MT']=round((test_nota['NU_NOTA_MT']).astype(float),1)"
   ]
  },
  {
   "cell_type": "code",
   "execution_count": 44,
   "metadata": {
    "colab": {
     "base_uri": "https://localhost:8080/",
     "height": 153
    },
    "colab_type": "code",
    "executionInfo": {
     "elapsed": 490,
     "status": "ok",
     "timestamp": 1585517283363,
     "user": {
      "displayName": "Vitor Barbosa",
      "photoUrl": "https://lh3.googleusercontent.com/a-/AOh14GhZmKI-3me8Ww9b7Vc3rj_ViazE5Q18KYyaIkNDMw=s64",
      "userId": "12911014457282043333"
     },
     "user_tz": 180
    },
    "id": "qJ4mUGTvbEdH",
    "outputId": "07eece86-4bd8-40ac-fa2f-378b278524d7"
   },
   "outputs": [
    {
     "name": "stdout",
     "output_type": "stream",
     "text": [
      "<class 'pandas.core.frame.DataFrame'>\n",
      "RangeIndex: 4576 entries, 0 to 4575\n",
      "Data columns (total 3 columns):\n",
      " #   Column          Non-Null Count  Dtype  \n",
      "---  ------          --------------  -----  \n",
      " 0   NU_INSCRICAO    4576 non-null   object \n",
      " 1   TP_PRESENCA_LC  4576 non-null   int64  \n",
      " 2   NU_NOTA_MT      4576 non-null   float64\n",
      "dtypes: float64(1), int64(1), object(1)\n",
      "memory usage: 107.4+ KB\n"
     ]
    }
   ],
   "source": [
    "test_nota.info()"
   ]
  },
  {
   "cell_type": "code",
   "execution_count": 45,
   "metadata": {
    "colab": {
     "base_uri": "https://localhost:8080/",
     "height": 34
    },
    "colab_type": "code",
    "executionInfo": {
     "elapsed": 1121,
     "status": "ok",
     "timestamp": 1585517284249,
     "user": {
      "displayName": "Vitor Barbosa",
      "photoUrl": "https://lh3.googleusercontent.com/a-/AOh14GhZmKI-3me8Ww9b7Vc3rj_ViazE5Q18KYyaIkNDMw=s64",
      "userId": "12911014457282043333"
     },
     "user_tz": 180
    },
    "id": "lLstyaNriUhC",
    "outputId": "41c56803-a7fa-427a-cabc-7657ccbd8eb3"
   },
   "outputs": [
    {
     "data": {
      "text/plain": [
       "(4576, 47)"
      ]
     },
     "execution_count": 45,
     "metadata": {},
     "output_type": "execute_result"
    }
   ],
   "source": [
    "test_submit.shape"
   ]
  },
  {
   "cell_type": "code",
   "execution_count": 46,
   "metadata": {
    "colab": {
     "base_uri": "https://localhost:8080/",
     "height": 439
    },
    "colab_type": "code",
    "executionInfo": {
     "elapsed": 507,
     "status": "ok",
     "timestamp": 1585517284594,
     "user": {
      "displayName": "Vitor Barbosa",
      "photoUrl": "https://lh3.googleusercontent.com/a-/AOh14GhZmKI-3me8Ww9b7Vc3rj_ViazE5Q18KYyaIkNDMw=s64",
      "userId": "12911014457282043333"
     },
     "user_tz": 180
    },
    "id": "TLuTELWcaW6W",
    "outputId": "f4ac9b56-012d-409a-eab0-8b5c63baa5d5"
   },
   "outputs": [
    {
     "data": {
      "text/html": [
       "<div>\n",
       "<style scoped>\n",
       "    .dataframe tbody tr th:only-of-type {\n",
       "        vertical-align: middle;\n",
       "    }\n",
       "\n",
       "    .dataframe tbody tr th {\n",
       "        vertical-align: top;\n",
       "    }\n",
       "\n",
       "    .dataframe thead th {\n",
       "        text-align: right;\n",
       "    }\n",
       "</style>\n",
       "<table border=\"1\" class=\"dataframe\">\n",
       "  <thead>\n",
       "    <tr style=\"text-align: right;\">\n",
       "      <th></th>\n",
       "      <th>NU_INSCRICAO</th>\n",
       "      <th>CO_UF_RESIDENCIA</th>\n",
       "      <th>SG_UF_RESIDENCIA</th>\n",
       "      <th>NU_IDADE</th>\n",
       "      <th>TP_SEXO</th>\n",
       "      <th>TP_COR_RACA</th>\n",
       "      <th>TP_NACIONALIDADE</th>\n",
       "      <th>TP_ST_CONCLUSAO</th>\n",
       "      <th>TP_ANO_CONCLUIU</th>\n",
       "      <th>TP_ESCOLA</th>\n",
       "      <th>...</th>\n",
       "      <th>NU_NOTA_COMP5</th>\n",
       "      <th>NU_NOTA_REDACAO</th>\n",
       "      <th>Q001</th>\n",
       "      <th>Q002</th>\n",
       "      <th>Q006</th>\n",
       "      <th>Q024</th>\n",
       "      <th>Q025</th>\n",
       "      <th>Q026</th>\n",
       "      <th>Q027</th>\n",
       "      <th>Q047</th>\n",
       "    </tr>\n",
       "  </thead>\n",
       "  <tbody>\n",
       "    <tr>\n",
       "      <th>0</th>\n",
       "      <td>73ff9fcc02f0a99919906c942c2e1a1042cdcf98</td>\n",
       "      <td>41</td>\n",
       "      <td>PR</td>\n",
       "      <td>22</td>\n",
       "      <td>F</td>\n",
       "      <td>3</td>\n",
       "      <td>1</td>\n",
       "      <td>1</td>\n",
       "      <td>5</td>\n",
       "      <td>1</td>\n",
       "      <td>...</td>\n",
       "      <td>40.0</td>\n",
       "      <td>420.0</td>\n",
       "      <td>B</td>\n",
       "      <td>A</td>\n",
       "      <td>C</td>\n",
       "      <td>A</td>\n",
       "      <td>A</td>\n",
       "      <td>C</td>\n",
       "      <td>C</td>\n",
       "      <td>A</td>\n",
       "    </tr>\n",
       "    <tr>\n",
       "      <th>1</th>\n",
       "      <td>71a95f9f1b91a82c65ad94abbdf9f54e6066f968</td>\n",
       "      <td>21</td>\n",
       "      <td>MA</td>\n",
       "      <td>26</td>\n",
       "      <td>F</td>\n",
       "      <td>3</td>\n",
       "      <td>1</td>\n",
       "      <td>1</td>\n",
       "      <td>8</td>\n",
       "      <td>1</td>\n",
       "      <td>...</td>\n",
       "      <td>100.0</td>\n",
       "      <td>580.0</td>\n",
       "      <td>E</td>\n",
       "      <td>B</td>\n",
       "      <td>C</td>\n",
       "      <td>B</td>\n",
       "      <td>B</td>\n",
       "      <td>B</td>\n",
       "      <td>F</td>\n",
       "      <td>A</td>\n",
       "    </tr>\n",
       "    <tr>\n",
       "      <th>2</th>\n",
       "      <td>b38a03232f43b11c9d0788abaf060f7366053b6d</td>\n",
       "      <td>23</td>\n",
       "      <td>CE</td>\n",
       "      <td>21</td>\n",
       "      <td>M</td>\n",
       "      <td>1</td>\n",
       "      <td>1</td>\n",
       "      <td>2</td>\n",
       "      <td>0</td>\n",
       "      <td>2</td>\n",
       "      <td>...</td>\n",
       "      <td>80.0</td>\n",
       "      <td>320.0</td>\n",
       "      <td>E</td>\n",
       "      <td>E</td>\n",
       "      <td>D</td>\n",
       "      <td>B</td>\n",
       "      <td>B</td>\n",
       "      <td>A</td>\n",
       "      <td>NaN</td>\n",
       "      <td>A</td>\n",
       "    </tr>\n",
       "    <tr>\n",
       "      <th>3</th>\n",
       "      <td>70b682d9a3636be23f6120fa9d6b164eb3c6002d</td>\n",
       "      <td>15</td>\n",
       "      <td>PA</td>\n",
       "      <td>27</td>\n",
       "      <td>F</td>\n",
       "      <td>3</td>\n",
       "      <td>1</td>\n",
       "      <td>1</td>\n",
       "      <td>8</td>\n",
       "      <td>1</td>\n",
       "      <td>...</td>\n",
       "      <td>NaN</td>\n",
       "      <td>NaN</td>\n",
       "      <td>H</td>\n",
       "      <td>E</td>\n",
       "      <td>G</td>\n",
       "      <td>B</td>\n",
       "      <td>B</td>\n",
       "      <td>A</td>\n",
       "      <td>NaN</td>\n",
       "      <td>A</td>\n",
       "    </tr>\n",
       "    <tr>\n",
       "      <th>4</th>\n",
       "      <td>715494628a50142ce8cb17191cfe6d0f3cae0934</td>\n",
       "      <td>41</td>\n",
       "      <td>PR</td>\n",
       "      <td>18</td>\n",
       "      <td>M</td>\n",
       "      <td>1</td>\n",
       "      <td>1</td>\n",
       "      <td>2</td>\n",
       "      <td>0</td>\n",
       "      <td>2</td>\n",
       "      <td>...</td>\n",
       "      <td>0.0</td>\n",
       "      <td>320.0</td>\n",
       "      <td>D</td>\n",
       "      <td>H</td>\n",
       "      <td>H</td>\n",
       "      <td>C</td>\n",
       "      <td>B</td>\n",
       "      <td>A</td>\n",
       "      <td>NaN</td>\n",
       "      <td>A</td>\n",
       "    </tr>\n",
       "    <tr>\n",
       "      <th>...</th>\n",
       "      <td>...</td>\n",
       "      <td>...</td>\n",
       "      <td>...</td>\n",
       "      <td>...</td>\n",
       "      <td>...</td>\n",
       "      <td>...</td>\n",
       "      <td>...</td>\n",
       "      <td>...</td>\n",
       "      <td>...</td>\n",
       "      <td>...</td>\n",
       "      <td>...</td>\n",
       "      <td>...</td>\n",
       "      <td>...</td>\n",
       "      <td>...</td>\n",
       "      <td>...</td>\n",
       "      <td>...</td>\n",
       "      <td>...</td>\n",
       "      <td>...</td>\n",
       "      <td>...</td>\n",
       "      <td>...</td>\n",
       "      <td>...</td>\n",
       "    </tr>\n",
       "    <tr>\n",
       "      <th>4571</th>\n",
       "      <td>dac0f22429c7f8e3931d0abaf5dfc8e5c772a48b</td>\n",
       "      <td>41</td>\n",
       "      <td>PR</td>\n",
       "      <td>17</td>\n",
       "      <td>F</td>\n",
       "      <td>1</td>\n",
       "      <td>1</td>\n",
       "      <td>2</td>\n",
       "      <td>0</td>\n",
       "      <td>2</td>\n",
       "      <td>...</td>\n",
       "      <td>40.0</td>\n",
       "      <td>500.0</td>\n",
       "      <td>E</td>\n",
       "      <td>E</td>\n",
       "      <td>D</td>\n",
       "      <td>A</td>\n",
       "      <td>B</td>\n",
       "      <td>A</td>\n",
       "      <td>NaN</td>\n",
       "      <td>A</td>\n",
       "    </tr>\n",
       "    <tr>\n",
       "      <th>4572</th>\n",
       "      <td>a75fa8770257e7c9368d059fe53d9ef431f4bdef</td>\n",
       "      <td>35</td>\n",
       "      <td>SP</td>\n",
       "      <td>17</td>\n",
       "      <td>M</td>\n",
       "      <td>2</td>\n",
       "      <td>1</td>\n",
       "      <td>2</td>\n",
       "      <td>0</td>\n",
       "      <td>2</td>\n",
       "      <td>...</td>\n",
       "      <td>100.0</td>\n",
       "      <td>520.0</td>\n",
       "      <td>C</td>\n",
       "      <td>C</td>\n",
       "      <td>C</td>\n",
       "      <td>A</td>\n",
       "      <td>A</td>\n",
       "      <td>A</td>\n",
       "      <td>NaN</td>\n",
       "      <td>A</td>\n",
       "    </tr>\n",
       "    <tr>\n",
       "      <th>4573</th>\n",
       "      <td>655fa6306720ff16e825903b5422a46608a77545</td>\n",
       "      <td>35</td>\n",
       "      <td>SP</td>\n",
       "      <td>19</td>\n",
       "      <td>M</td>\n",
       "      <td>1</td>\n",
       "      <td>1</td>\n",
       "      <td>1</td>\n",
       "      <td>2</td>\n",
       "      <td>1</td>\n",
       "      <td>...</td>\n",
       "      <td>80.0</td>\n",
       "      <td>640.0</td>\n",
       "      <td>D</td>\n",
       "      <td>F</td>\n",
       "      <td>D</td>\n",
       "      <td>B</td>\n",
       "      <td>B</td>\n",
       "      <td>A</td>\n",
       "      <td>NaN</td>\n",
       "      <td>D</td>\n",
       "    </tr>\n",
       "    <tr>\n",
       "      <th>4574</th>\n",
       "      <td>1f4bc3e3d56212d500625bfe8ac78ccff4362293</td>\n",
       "      <td>52</td>\n",
       "      <td>GO</td>\n",
       "      <td>17</td>\n",
       "      <td>M</td>\n",
       "      <td>2</td>\n",
       "      <td>2</td>\n",
       "      <td>3</td>\n",
       "      <td>0</td>\n",
       "      <td>1</td>\n",
       "      <td>...</td>\n",
       "      <td>80.0</td>\n",
       "      <td>520.0</td>\n",
       "      <td>C</td>\n",
       "      <td>E</td>\n",
       "      <td>C</td>\n",
       "      <td>A</td>\n",
       "      <td>A</td>\n",
       "      <td>A</td>\n",
       "      <td>NaN</td>\n",
       "      <td>A</td>\n",
       "    </tr>\n",
       "    <tr>\n",
       "      <th>4575</th>\n",
       "      <td>adf0d15b54317b6564ef56dad2b775bbb0ef50cc</td>\n",
       "      <td>33</td>\n",
       "      <td>RJ</td>\n",
       "      <td>30</td>\n",
       "      <td>M</td>\n",
       "      <td>1</td>\n",
       "      <td>1</td>\n",
       "      <td>1</td>\n",
       "      <td>10</td>\n",
       "      <td>1</td>\n",
       "      <td>...</td>\n",
       "      <td>NaN</td>\n",
       "      <td>NaN</td>\n",
       "      <td>C</td>\n",
       "      <td>C</td>\n",
       "      <td>A</td>\n",
       "      <td>B</td>\n",
       "      <td>B</td>\n",
       "      <td>B</td>\n",
       "      <td>B</td>\n",
       "      <td>A</td>\n",
       "    </tr>\n",
       "  </tbody>\n",
       "</table>\n",
       "<p>4576 rows × 47 columns</p>\n",
       "</div>"
      ],
      "text/plain": [
       "                                  NU_INSCRICAO  CO_UF_RESIDENCIA  \\\n",
       "0     73ff9fcc02f0a99919906c942c2e1a1042cdcf98                41   \n",
       "1     71a95f9f1b91a82c65ad94abbdf9f54e6066f968                21   \n",
       "2     b38a03232f43b11c9d0788abaf060f7366053b6d                23   \n",
       "3     70b682d9a3636be23f6120fa9d6b164eb3c6002d                15   \n",
       "4     715494628a50142ce8cb17191cfe6d0f3cae0934                41   \n",
       "...                                        ...               ...   \n",
       "4571  dac0f22429c7f8e3931d0abaf5dfc8e5c772a48b                41   \n",
       "4572  a75fa8770257e7c9368d059fe53d9ef431f4bdef                35   \n",
       "4573  655fa6306720ff16e825903b5422a46608a77545                35   \n",
       "4574  1f4bc3e3d56212d500625bfe8ac78ccff4362293                52   \n",
       "4575  adf0d15b54317b6564ef56dad2b775bbb0ef50cc                33   \n",
       "\n",
       "     SG_UF_RESIDENCIA  NU_IDADE TP_SEXO  TP_COR_RACA  TP_NACIONALIDADE  \\\n",
       "0                  PR        22       F            3                 1   \n",
       "1                  MA        26       F            3                 1   \n",
       "2                  CE        21       M            1                 1   \n",
       "3                  PA        27       F            3                 1   \n",
       "4                  PR        18       M            1                 1   \n",
       "...               ...       ...     ...          ...               ...   \n",
       "4571               PR        17       F            1                 1   \n",
       "4572               SP        17       M            2                 1   \n",
       "4573               SP        19       M            1                 1   \n",
       "4574               GO        17       M            2                 2   \n",
       "4575               RJ        30       M            1                 1   \n",
       "\n",
       "      TP_ST_CONCLUSAO  TP_ANO_CONCLUIU  TP_ESCOLA  ...  NU_NOTA_COMP5  \\\n",
       "0                   1                5          1  ...           40.0   \n",
       "1                   1                8          1  ...          100.0   \n",
       "2                   2                0          2  ...           80.0   \n",
       "3                   1                8          1  ...            NaN   \n",
       "4                   2                0          2  ...            0.0   \n",
       "...               ...              ...        ...  ...            ...   \n",
       "4571                2                0          2  ...           40.0   \n",
       "4572                2                0          2  ...          100.0   \n",
       "4573                1                2          1  ...           80.0   \n",
       "4574                3                0          1  ...           80.0   \n",
       "4575                1               10          1  ...            NaN   \n",
       "\n",
       "      NU_NOTA_REDACAO  Q001  Q002  Q006  Q024  Q025  Q026  Q027  Q047  \n",
       "0               420.0     B     A     C     A     A     C     C     A  \n",
       "1               580.0     E     B     C     B     B     B     F     A  \n",
       "2               320.0     E     E     D     B     B     A   NaN     A  \n",
       "3                 NaN     H     E     G     B     B     A   NaN     A  \n",
       "4               320.0     D     H     H     C     B     A   NaN     A  \n",
       "...               ...   ...   ...   ...   ...   ...   ...   ...   ...  \n",
       "4571            500.0     E     E     D     A     B     A   NaN     A  \n",
       "4572            520.0     C     C     C     A     A     A   NaN     A  \n",
       "4573            640.0     D     F     D     B     B     A   NaN     D  \n",
       "4574            520.0     C     E     C     A     A     A   NaN     A  \n",
       "4575              NaN     C     C     A     B     B     B     B     A  \n",
       "\n",
       "[4576 rows x 47 columns]"
      ]
     },
     "execution_count": 46,
     "metadata": {},
     "output_type": "execute_result"
    }
   ],
   "source": [
    "test_submit"
   ]
  },
  {
   "cell_type": "markdown",
   "metadata": {},
   "source": [
    "### Se não compareceu à prova, ficará sem nota "
   ]
  },
  {
   "cell_type": "code",
   "execution_count": 47,
   "metadata": {
    "colab": {},
    "colab_type": "code",
    "id": "ZQlrGMSEfjsb"
   },
   "outputs": [],
   "source": [
    "test_nota.loc[(test_submit['TP_PRESENCA_LC']==0)|(test_submit['TP_PRESENCA_LC']==2), 'NU_NOTA_MT'] = ''"
   ]
  },
  {
   "cell_type": "code",
   "execution_count": 48,
   "metadata": {
    "colab": {
     "base_uri": "https://localhost:8080/",
     "height": 419
    },
    "colab_type": "code",
    "executionInfo": {
     "elapsed": 400,
     "status": "ok",
     "timestamp": 1585517286793,
     "user": {
      "displayName": "Vitor Barbosa",
      "photoUrl": "https://lh3.googleusercontent.com/a-/AOh14GhZmKI-3me8Ww9b7Vc3rj_ViazE5Q18KYyaIkNDMw=s64",
      "userId": "12911014457282043333"
     },
     "user_tz": 180
    },
    "id": "WvT6IDeugnm2",
    "outputId": "8bb5bc84-fffa-4cca-e4ac-9a1af1ac88aa"
   },
   "outputs": [
    {
     "data": {
      "text/html": [
       "<div>\n",
       "<style scoped>\n",
       "    .dataframe tbody tr th:only-of-type {\n",
       "        vertical-align: middle;\n",
       "    }\n",
       "\n",
       "    .dataframe tbody tr th {\n",
       "        vertical-align: top;\n",
       "    }\n",
       "\n",
       "    .dataframe thead th {\n",
       "        text-align: right;\n",
       "    }\n",
       "</style>\n",
       "<table border=\"1\" class=\"dataframe\">\n",
       "  <thead>\n",
       "    <tr style=\"text-align: right;\">\n",
       "      <th></th>\n",
       "      <th>NU_INSCRICAO</th>\n",
       "      <th>TP_PRESENCA_LC</th>\n",
       "      <th>NU_NOTA_MT</th>\n",
       "    </tr>\n",
       "  </thead>\n",
       "  <tbody>\n",
       "    <tr>\n",
       "      <th>3</th>\n",
       "      <td>70b682d9a3636be23f6120fa9d6b164eb3c6002d</td>\n",
       "      <td>0</td>\n",
       "      <td></td>\n",
       "    </tr>\n",
       "    <tr>\n",
       "      <th>10</th>\n",
       "      <td>8b7c167ea7b55c8168ec60c3851b1b598a8fbd11</td>\n",
       "      <td>0</td>\n",
       "      <td></td>\n",
       "    </tr>\n",
       "    <tr>\n",
       "      <th>11</th>\n",
       "      <td>db4da599aab5bb08dce27094a35fd3e36cd0abce</td>\n",
       "      <td>0</td>\n",
       "      <td></td>\n",
       "    </tr>\n",
       "    <tr>\n",
       "      <th>16</th>\n",
       "      <td>fbfa8cde21a692b51fb86342110b4a334a0fcfdb</td>\n",
       "      <td>0</td>\n",
       "      <td></td>\n",
       "    </tr>\n",
       "    <tr>\n",
       "      <th>17</th>\n",
       "      <td>ca8477c8493b09f34d17bb287f9bacf2dd744c32</td>\n",
       "      <td>0</td>\n",
       "      <td></td>\n",
       "    </tr>\n",
       "    <tr>\n",
       "      <th>...</th>\n",
       "      <td>...</td>\n",
       "      <td>...</td>\n",
       "      <td>...</td>\n",
       "    </tr>\n",
       "    <tr>\n",
       "      <th>4543</th>\n",
       "      <td>098eabcd83d72785beca4cdff3d5cfbc71904a48</td>\n",
       "      <td>0</td>\n",
       "      <td></td>\n",
       "    </tr>\n",
       "    <tr>\n",
       "      <th>4546</th>\n",
       "      <td>b8ec140a86a7a6e569f3eda9ae9083183ca2e386</td>\n",
       "      <td>0</td>\n",
       "      <td></td>\n",
       "    </tr>\n",
       "    <tr>\n",
       "      <th>4547</th>\n",
       "      <td>40a9b86a4efdd7ab5ee6fc26de9a984946896deb</td>\n",
       "      <td>0</td>\n",
       "      <td></td>\n",
       "    </tr>\n",
       "    <tr>\n",
       "      <th>4549</th>\n",
       "      <td>ec73ba109d1a91299e071b2a95f79c36c1c6e069</td>\n",
       "      <td>0</td>\n",
       "      <td></td>\n",
       "    </tr>\n",
       "    <tr>\n",
       "      <th>4575</th>\n",
       "      <td>adf0d15b54317b6564ef56dad2b775bbb0ef50cc</td>\n",
       "      <td>0</td>\n",
       "      <td></td>\n",
       "    </tr>\n",
       "  </tbody>\n",
       "</table>\n",
       "<p>1195 rows × 3 columns</p>\n",
       "</div>"
      ],
      "text/plain": [
       "                                  NU_INSCRICAO  TP_PRESENCA_LC NU_NOTA_MT\n",
       "3     70b682d9a3636be23f6120fa9d6b164eb3c6002d               0           \n",
       "10    8b7c167ea7b55c8168ec60c3851b1b598a8fbd11               0           \n",
       "11    db4da599aab5bb08dce27094a35fd3e36cd0abce               0           \n",
       "16    fbfa8cde21a692b51fb86342110b4a334a0fcfdb               0           \n",
       "17    ca8477c8493b09f34d17bb287f9bacf2dd744c32               0           \n",
       "...                                        ...             ...        ...\n",
       "4543  098eabcd83d72785beca4cdff3d5cfbc71904a48               0           \n",
       "4546  b8ec140a86a7a6e569f3eda9ae9083183ca2e386               0           \n",
       "4547  40a9b86a4efdd7ab5ee6fc26de9a984946896deb               0           \n",
       "4549  ec73ba109d1a91299e071b2a95f79c36c1c6e069               0           \n",
       "4575  adf0d15b54317b6564ef56dad2b775bbb0ef50cc               0           \n",
       "\n",
       "[1195 rows x 3 columns]"
      ]
     },
     "execution_count": 48,
     "metadata": {},
     "output_type": "execute_result"
    }
   ],
   "source": [
    "test_nota[test_nota['TP_PRESENCA_LC']==0]"
   ]
  },
  {
   "cell_type": "code",
   "execution_count": 49,
   "metadata": {
    "colab": {
     "base_uri": "https://localhost:8080/",
     "height": 419
    },
    "colab_type": "code",
    "executionInfo": {
     "elapsed": 782,
     "status": "ok",
     "timestamp": 1585517288871,
     "user": {
      "displayName": "Vitor Barbosa",
      "photoUrl": "https://lh3.googleusercontent.com/a-/AOh14GhZmKI-3me8Ww9b7Vc3rj_ViazE5Q18KYyaIkNDMw=s64",
      "userId": "12911014457282043333"
     },
     "user_tz": 180
    },
    "id": "9tk-M2oNaGlV",
    "outputId": "5bcbd85d-bca3-4512-cfce-a7680ecd81b6"
   },
   "outputs": [
    {
     "data": {
      "text/html": [
       "<div>\n",
       "<style scoped>\n",
       "    .dataframe tbody tr th:only-of-type {\n",
       "        vertical-align: middle;\n",
       "    }\n",
       "\n",
       "    .dataframe tbody tr th {\n",
       "        vertical-align: top;\n",
       "    }\n",
       "\n",
       "    .dataframe thead th {\n",
       "        text-align: right;\n",
       "    }\n",
       "</style>\n",
       "<table border=\"1\" class=\"dataframe\">\n",
       "  <thead>\n",
       "    <tr style=\"text-align: right;\">\n",
       "      <th></th>\n",
       "      <th>NU_INSCRICAO</th>\n",
       "      <th>TP_PRESENCA_LC</th>\n",
       "      <th>NU_NOTA_MT</th>\n",
       "    </tr>\n",
       "  </thead>\n",
       "  <tbody>\n",
       "    <tr>\n",
       "      <th>0</th>\n",
       "      <td>73ff9fcc02f0a99919906c942c2e1a1042cdcf98</td>\n",
       "      <td>1</td>\n",
       "      <td>421.4</td>\n",
       "    </tr>\n",
       "    <tr>\n",
       "      <th>1</th>\n",
       "      <td>71a95f9f1b91a82c65ad94abbdf9f54e6066f968</td>\n",
       "      <td>1</td>\n",
       "      <td>436.6</td>\n",
       "    </tr>\n",
       "    <tr>\n",
       "      <th>2</th>\n",
       "      <td>b38a03232f43b11c9d0788abaf060f7366053b6d</td>\n",
       "      <td>1</td>\n",
       "      <td>593.7</td>\n",
       "    </tr>\n",
       "    <tr>\n",
       "      <th>3</th>\n",
       "      <td>70b682d9a3636be23f6120fa9d6b164eb3c6002d</td>\n",
       "      <td>0</td>\n",
       "      <td></td>\n",
       "    </tr>\n",
       "    <tr>\n",
       "      <th>4</th>\n",
       "      <td>715494628a50142ce8cb17191cfe6d0f3cae0934</td>\n",
       "      <td>1</td>\n",
       "      <td>556.5</td>\n",
       "    </tr>\n",
       "    <tr>\n",
       "      <th>...</th>\n",
       "      <td>...</td>\n",
       "      <td>...</td>\n",
       "      <td>...</td>\n",
       "    </tr>\n",
       "    <tr>\n",
       "      <th>4571</th>\n",
       "      <td>dac0f22429c7f8e3931d0abaf5dfc8e5c772a48b</td>\n",
       "      <td>1</td>\n",
       "      <td>462.3</td>\n",
       "    </tr>\n",
       "    <tr>\n",
       "      <th>4572</th>\n",
       "      <td>a75fa8770257e7c9368d059fe53d9ef431f4bdef</td>\n",
       "      <td>1</td>\n",
       "      <td>487.7</td>\n",
       "    </tr>\n",
       "    <tr>\n",
       "      <th>4573</th>\n",
       "      <td>655fa6306720ff16e825903b5422a46608a77545</td>\n",
       "      <td>1</td>\n",
       "      <td>687.5</td>\n",
       "    </tr>\n",
       "    <tr>\n",
       "      <th>4574</th>\n",
       "      <td>1f4bc3e3d56212d500625bfe8ac78ccff4362293</td>\n",
       "      <td>1</td>\n",
       "      <td>469.8</td>\n",
       "    </tr>\n",
       "    <tr>\n",
       "      <th>4575</th>\n",
       "      <td>adf0d15b54317b6564ef56dad2b775bbb0ef50cc</td>\n",
       "      <td>0</td>\n",
       "      <td></td>\n",
       "    </tr>\n",
       "  </tbody>\n",
       "</table>\n",
       "<p>4576 rows × 3 columns</p>\n",
       "</div>"
      ],
      "text/plain": [
       "                                  NU_INSCRICAO  TP_PRESENCA_LC NU_NOTA_MT\n",
       "0     73ff9fcc02f0a99919906c942c2e1a1042cdcf98               1      421.4\n",
       "1     71a95f9f1b91a82c65ad94abbdf9f54e6066f968               1      436.6\n",
       "2     b38a03232f43b11c9d0788abaf060f7366053b6d               1      593.7\n",
       "3     70b682d9a3636be23f6120fa9d6b164eb3c6002d               0           \n",
       "4     715494628a50142ce8cb17191cfe6d0f3cae0934               1      556.5\n",
       "...                                        ...             ...        ...\n",
       "4571  dac0f22429c7f8e3931d0abaf5dfc8e5c772a48b               1      462.3\n",
       "4572  a75fa8770257e7c9368d059fe53d9ef431f4bdef               1      487.7\n",
       "4573  655fa6306720ff16e825903b5422a46608a77545               1      687.5\n",
       "4574  1f4bc3e3d56212d500625bfe8ac78ccff4362293               1      469.8\n",
       "4575  adf0d15b54317b6564ef56dad2b775bbb0ef50cc               0           \n",
       "\n",
       "[4576 rows x 3 columns]"
      ]
     },
     "execution_count": 49,
     "metadata": {},
     "output_type": "execute_result"
    }
   ],
   "source": [
    "test_nota"
   ]
  },
  {
   "cell_type": "markdown",
   "metadata": {},
   "source": [
    "#### Gravar apenas NU_INSCRICAO E NU_NOTA_MT"
   ]
  },
  {
   "cell_type": "code",
   "execution_count": 50,
   "metadata": {
    "colab": {},
    "colab_type": "code",
    "id": "1Cuag7Bvg0zM"
   },
   "outputs": [],
   "source": [
    "test_nota[['NU_INSCRICAO','NU_NOTA_MT']].to_csv(\"answer.csv\", sep=',', index=False)"
   ]
  },
  {
   "cell_type": "code",
   "execution_count": 0,
   "metadata": {
    "colab": {},
    "colab_type": "code",
    "id": "DaQwYjWNlQ2k"
   },
   "outputs": [],
   "source": [
    "#results=df1.merge(df2,on=’Name’)\n",
    "#results=submission_nota.merge(enem[['NU_INSCRICAO','NU_NOTA_MT']], on='NU_INSCRICAO')"
   ]
  }
 ],
 "metadata": {
  "colab": {
   "collapsed_sections": [],
   "name": "DesafioAtual_v3.ipynb",
   "provenance": []
  },
  "kernelspec": {
   "display_name": "Python 3",
   "language": "python",
   "name": "python3"
  },
  "language_info": {
   "codemirror_mode": {
    "name": "ipython",
    "version": 3
   },
   "file_extension": ".py",
   "mimetype": "text/x-python",
   "name": "python",
   "nbconvert_exporter": "python",
   "pygments_lexer": "ipython3",
   "version": "3.7.6"
  }
 },
 "nbformat": 4,
 "nbformat_minor": 1
}
