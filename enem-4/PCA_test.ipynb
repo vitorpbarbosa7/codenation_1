{
 "cells": [
  {
   "cell_type": "code",
   "execution_count": 36,
   "metadata": {
    "colab": {},
    "colab_type": "code",
    "id": "shKg6OVChp8m"
   },
   "outputs": [],
   "source": [
    "import pandas as pd\n",
    "import numpy as np\n",
    "import matplotlib.pyplot as plt\n",
    "from matplotlib import style\n",
    "style.use('dark_background')\n",
    "import seaborn as sns\n",
    "from sklearn.ensemble import RandomForestRegressor\n",
    "\n",
    "%matplotlib inline"
   ]
  },
  {
   "cell_type": "code",
   "execution_count": 37,
   "metadata": {},
   "outputs": [],
   "source": [
    "train = pd.read_csv('train.csv')\n",
    "test = pd.read_csv('test.csv')"
   ]
  },
  {
   "cell_type": "markdown",
   "metadata": {},
   "source": [
    "### Dataset de teste possui apenas 43 colunas e dataset de treino possui 167"
   ]
  },
  {
   "cell_type": "code",
   "execution_count": 38,
   "metadata": {},
   "outputs": [
    {
     "name": "stdout",
     "output_type": "stream",
     "text": [
      "Shape Test: (4570, 43) and Shape Train: (13730, 167)\n"
     ]
    }
   ],
   "source": [
    "print(f'Shape Test: {test.shape} and Shape Train: {train.shape}')"
   ]
  },
  {
   "cell_type": "markdown",
   "metadata": {},
   "source": [
    "### Lista de variáveis presentes no dataset de teste"
   ]
  },
  {
   "cell_type": "code",
   "execution_count": 39,
   "metadata": {},
   "outputs": [],
   "source": [
    "test_features = list(test)\n",
    "train_features = list(train)"
   ]
  },
  {
   "cell_type": "code",
   "execution_count": 40,
   "metadata": {},
   "outputs": [
    {
     "name": "stdout",
     "output_type": "stream",
     "text": [
      "New shape of train (13730, 44)\n"
     ]
    }
   ],
   "source": [
    "newtrain_features = list(set(train_features).intersection(set(test_features)))\n",
    "\n",
    "newtrain_features.append('IN_TREINEIRO')\n",
    "\n",
    "train = train[newtrain_features]\n",
    "\n",
    "print(f'New shape of train {train.shape}')"
   ]
  },
  {
   "cell_type": "code",
   "execution_count": 41,
   "metadata": {},
   "outputs": [],
   "source": [
    "train = train.drop('NU_INSCRICAO', axis = 1)\n",
    "test = test.drop('NU_INSCRICAO', axis = 1)\n",
    "\n",
    "object_features_train = list(train.select_dtypes(include = 'object'))\n",
    "object_features_test = list(test.select_dtypes(include = 'object'))\n",
    "\n",
    "feat_le_train = [train.columns.get_loc(a) for a in object_features_train]\n",
    "feat_le_test = [test.columns.get_loc(a) for a in object_features_test]\n"
   ]
  },
  {
   "cell_type": "code",
   "execution_count": 42,
   "metadata": {},
   "outputs": [
    {
     "data": {
      "text/html": [
       "<div>\n",
       "<style scoped>\n",
       "    .dataframe tbody tr th:only-of-type {\n",
       "        vertical-align: middle;\n",
       "    }\n",
       "\n",
       "    .dataframe tbody tr th {\n",
       "        vertical-align: top;\n",
       "    }\n",
       "\n",
       "    .dataframe thead th {\n",
       "        text-align: right;\n",
       "    }\n",
       "</style>\n",
       "<table border=\"1\" class=\"dataframe\">\n",
       "  <thead>\n",
       "    <tr style=\"text-align: right;\">\n",
       "      <th></th>\n",
       "      <th>NU_NOTA_REDACAO</th>\n",
       "      <th>TP_ST_CONCLUSAO</th>\n",
       "      <th>TP_STATUS_REDACAO</th>\n",
       "      <th>IN_GESTANTE</th>\n",
       "      <th>TP_PRESENCA_MT</th>\n",
       "      <th>TP_ESCOLA</th>\n",
       "      <th>IN_DISLEXIA</th>\n",
       "      <th>Q027</th>\n",
       "      <th>NU_IDADE</th>\n",
       "      <th>IN_BAIXA_VISAO</th>\n",
       "      <th>TP_PRESENCA_CH</th>\n",
       "      <th>IN_IDOSO</th>\n",
       "      <th>Q006</th>\n",
       "      <th>Q024</th>\n",
       "      <th>TP_ANO_CONCLUIU</th>\n",
       "      <th>Q002</th>\n",
       "      <th>SG_UF_RESIDENCIA</th>\n",
       "      <th>TP_COR_RACA</th>\n",
       "      <th>TP_DEPENDENCIA_ADM_ESC</th>\n",
       "      <th>NU_NOTA_COMP2</th>\n",
       "      <th>TP_NACIONALIDADE</th>\n",
       "      <th>IN_CEGUEIRA</th>\n",
       "      <th>TP_PRESENCA_LC</th>\n",
       "      <th>IN_SURDEZ</th>\n",
       "      <th>NU_NOTA_CN</th>\n",
       "      <th>NU_NOTA_COMP4</th>\n",
       "      <th>Q001</th>\n",
       "      <th>TP_PRESENCA_CN</th>\n",
       "      <th>Q047</th>\n",
       "      <th>NU_NOTA_CH</th>\n",
       "      <th>TP_ENSINO</th>\n",
       "      <th>NU_NOTA_COMP3</th>\n",
       "      <th>NU_NOTA_COMP5</th>\n",
       "      <th>Q025</th>\n",
       "      <th>TP_SEXO</th>\n",
       "      <th>IN_SABATISTA</th>\n",
       "      <th>Q026</th>\n",
       "      <th>CO_UF_RESIDENCIA</th>\n",
       "      <th>NU_NOTA_LC</th>\n",
       "      <th>TP_LINGUA</th>\n",
       "      <th>IN_DISCALCULIA</th>\n",
       "      <th>NU_NOTA_COMP1</th>\n",
       "      <th>IN_TREINEIRO</th>\n",
       "    </tr>\n",
       "  </thead>\n",
       "  <tbody>\n",
       "    <tr>\n",
       "      <th>0</th>\n",
       "      <td>520.0</td>\n",
       "      <td>1</td>\n",
       "      <td>1.0</td>\n",
       "      <td>0</td>\n",
       "      <td>1</td>\n",
       "      <td>1</td>\n",
       "      <td>0</td>\n",
       "      <td>H</td>\n",
       "      <td>24</td>\n",
       "      <td>0</td>\n",
       "      <td>1</td>\n",
       "      <td>0</td>\n",
       "      <td>C</td>\n",
       "      <td>A</td>\n",
       "      <td>4</td>\n",
       "      <td>D</td>\n",
       "      <td>RS</td>\n",
       "      <td>1</td>\n",
       "      <td>NaN</td>\n",
       "      <td>120.0</td>\n",
       "      <td>1</td>\n",
       "      <td>0</td>\n",
       "      <td>1</td>\n",
       "      <td>0</td>\n",
       "      <td>436.3</td>\n",
       "      <td>80.0</td>\n",
       "      <td>D</td>\n",
       "      <td>1</td>\n",
       "      <td>A</td>\n",
       "      <td>495.4</td>\n",
       "      <td>NaN</td>\n",
       "      <td>120.0</td>\n",
       "      <td>80.0</td>\n",
       "      <td>A</td>\n",
       "      <td>M</td>\n",
       "      <td>0</td>\n",
       "      <td>C</td>\n",
       "      <td>43</td>\n",
       "      <td>581.2</td>\n",
       "      <td>1</td>\n",
       "      <td>0</td>\n",
       "      <td>120.0</td>\n",
       "      <td>0</td>\n",
       "    </tr>\n",
       "    <tr>\n",
       "      <th>1</th>\n",
       "      <td>580.0</td>\n",
       "      <td>2</td>\n",
       "      <td>1.0</td>\n",
       "      <td>0</td>\n",
       "      <td>1</td>\n",
       "      <td>2</td>\n",
       "      <td>0</td>\n",
       "      <td>NaN</td>\n",
       "      <td>17</td>\n",
       "      <td>0</td>\n",
       "      <td>1</td>\n",
       "      <td>0</td>\n",
       "      <td>B</td>\n",
       "      <td>A</td>\n",
       "      <td>0</td>\n",
       "      <td>A</td>\n",
       "      <td>CE</td>\n",
       "      <td>3</td>\n",
       "      <td>2.0</td>\n",
       "      <td>120.0</td>\n",
       "      <td>1</td>\n",
       "      <td>0</td>\n",
       "      <td>1</td>\n",
       "      <td>0</td>\n",
       "      <td>474.5</td>\n",
       "      <td>120.0</td>\n",
       "      <td>A</td>\n",
       "      <td>1</td>\n",
       "      <td>A</td>\n",
       "      <td>544.1</td>\n",
       "      <td>1.0</td>\n",
       "      <td>120.0</td>\n",
       "      <td>80.0</td>\n",
       "      <td>A</td>\n",
       "      <td>F</td>\n",
       "      <td>0</td>\n",
       "      <td>A</td>\n",
       "      <td>23</td>\n",
       "      <td>599.0</td>\n",
       "      <td>1</td>\n",
       "      <td>0</td>\n",
       "      <td>140.0</td>\n",
       "      <td>0</td>\n",
       "    </tr>\n",
       "    <tr>\n",
       "      <th>2</th>\n",
       "      <td>NaN</td>\n",
       "      <td>3</td>\n",
       "      <td>NaN</td>\n",
       "      <td>0</td>\n",
       "      <td>0</td>\n",
       "      <td>1</td>\n",
       "      <td>0</td>\n",
       "      <td>NaN</td>\n",
       "      <td>21</td>\n",
       "      <td>0</td>\n",
       "      <td>0</td>\n",
       "      <td>0</td>\n",
       "      <td>C</td>\n",
       "      <td>A</td>\n",
       "      <td>0</td>\n",
       "      <td>D</td>\n",
       "      <td>CE</td>\n",
       "      <td>3</td>\n",
       "      <td>NaN</td>\n",
       "      <td>NaN</td>\n",
       "      <td>1</td>\n",
       "      <td>0</td>\n",
       "      <td>0</td>\n",
       "      <td>0</td>\n",
       "      <td>NaN</td>\n",
       "      <td>NaN</td>\n",
       "      <td>D</td>\n",
       "      <td>0</td>\n",
       "      <td>A</td>\n",
       "      <td>NaN</td>\n",
       "      <td>NaN</td>\n",
       "      <td>NaN</td>\n",
       "      <td>NaN</td>\n",
       "      <td>A</td>\n",
       "      <td>F</td>\n",
       "      <td>0</td>\n",
       "      <td>A</td>\n",
       "      <td>23</td>\n",
       "      <td>NaN</td>\n",
       "      <td>1</td>\n",
       "      <td>0</td>\n",
       "      <td>NaN</td>\n",
       "      <td>0</td>\n",
       "    </tr>\n",
       "    <tr>\n",
       "      <th>3</th>\n",
       "      <td>NaN</td>\n",
       "      <td>1</td>\n",
       "      <td>NaN</td>\n",
       "      <td>0</td>\n",
       "      <td>0</td>\n",
       "      <td>1</td>\n",
       "      <td>0</td>\n",
       "      <td>F</td>\n",
       "      <td>25</td>\n",
       "      <td>0</td>\n",
       "      <td>0</td>\n",
       "      <td>0</td>\n",
       "      <td>E</td>\n",
       "      <td>C</td>\n",
       "      <td>9</td>\n",
       "      <td>E</td>\n",
       "      <td>RJ</td>\n",
       "      <td>0</td>\n",
       "      <td>NaN</td>\n",
       "      <td>NaN</td>\n",
       "      <td>1</td>\n",
       "      <td>0</td>\n",
       "      <td>0</td>\n",
       "      <td>0</td>\n",
       "      <td>NaN</td>\n",
       "      <td>NaN</td>\n",
       "      <td>H</td>\n",
       "      <td>0</td>\n",
       "      <td>D</td>\n",
       "      <td>NaN</td>\n",
       "      <td>NaN</td>\n",
       "      <td>NaN</td>\n",
       "      <td>NaN</td>\n",
       "      <td>B</td>\n",
       "      <td>F</td>\n",
       "      <td>0</td>\n",
       "      <td>C</td>\n",
       "      <td>33</td>\n",
       "      <td>NaN</td>\n",
       "      <td>0</td>\n",
       "      <td>0</td>\n",
       "      <td>NaN</td>\n",
       "      <td>0</td>\n",
       "    </tr>\n",
       "    <tr>\n",
       "      <th>4</th>\n",
       "      <td>NaN</td>\n",
       "      <td>1</td>\n",
       "      <td>NaN</td>\n",
       "      <td>0</td>\n",
       "      <td>0</td>\n",
       "      <td>1</td>\n",
       "      <td>0</td>\n",
       "      <td>F</td>\n",
       "      <td>28</td>\n",
       "      <td>0</td>\n",
       "      <td>0</td>\n",
       "      <td>0</td>\n",
       "      <td>C</td>\n",
       "      <td>A</td>\n",
       "      <td>4</td>\n",
       "      <td>D</td>\n",
       "      <td>AM</td>\n",
       "      <td>2</td>\n",
       "      <td>NaN</td>\n",
       "      <td>NaN</td>\n",
       "      <td>1</td>\n",
       "      <td>0</td>\n",
       "      <td>0</td>\n",
       "      <td>0</td>\n",
       "      <td>NaN</td>\n",
       "      <td>NaN</td>\n",
       "      <td>E</td>\n",
       "      <td>0</td>\n",
       "      <td>A</td>\n",
       "      <td>NaN</td>\n",
       "      <td>NaN</td>\n",
       "      <td>NaN</td>\n",
       "      <td>NaN</td>\n",
       "      <td>A</td>\n",
       "      <td>M</td>\n",
       "      <td>0</td>\n",
       "      <td>B</td>\n",
       "      <td>13</td>\n",
       "      <td>NaN</td>\n",
       "      <td>1</td>\n",
       "      <td>0</td>\n",
       "      <td>NaN</td>\n",
       "      <td>0</td>\n",
       "    </tr>\n",
       "  </tbody>\n",
       "</table>\n",
       "</div>"
      ],
      "text/plain": [
       "   NU_NOTA_REDACAO  TP_ST_CONCLUSAO  TP_STATUS_REDACAO  IN_GESTANTE  \\\n",
       "0            520.0                1                1.0            0   \n",
       "1            580.0                2                1.0            0   \n",
       "2              NaN                3                NaN            0   \n",
       "3              NaN                1                NaN            0   \n",
       "4              NaN                1                NaN            0   \n",
       "\n",
       "   TP_PRESENCA_MT  TP_ESCOLA  IN_DISLEXIA Q027  NU_IDADE  IN_BAIXA_VISAO  \\\n",
       "0               1          1            0    H        24               0   \n",
       "1               1          2            0  NaN        17               0   \n",
       "2               0          1            0  NaN        21               0   \n",
       "3               0          1            0    F        25               0   \n",
       "4               0          1            0    F        28               0   \n",
       "\n",
       "   TP_PRESENCA_CH  IN_IDOSO Q006 Q024  TP_ANO_CONCLUIU Q002 SG_UF_RESIDENCIA  \\\n",
       "0               1         0    C    A                4    D               RS   \n",
       "1               1         0    B    A                0    A               CE   \n",
       "2               0         0    C    A                0    D               CE   \n",
       "3               0         0    E    C                9    E               RJ   \n",
       "4               0         0    C    A                4    D               AM   \n",
       "\n",
       "   TP_COR_RACA  TP_DEPENDENCIA_ADM_ESC  NU_NOTA_COMP2  TP_NACIONALIDADE  \\\n",
       "0            1                     NaN          120.0                 1   \n",
       "1            3                     2.0          120.0                 1   \n",
       "2            3                     NaN            NaN                 1   \n",
       "3            0                     NaN            NaN                 1   \n",
       "4            2                     NaN            NaN                 1   \n",
       "\n",
       "   IN_CEGUEIRA  TP_PRESENCA_LC  IN_SURDEZ  NU_NOTA_CN  NU_NOTA_COMP4 Q001  \\\n",
       "0            0               1          0       436.3           80.0    D   \n",
       "1            0               1          0       474.5          120.0    A   \n",
       "2            0               0          0         NaN            NaN    D   \n",
       "3            0               0          0         NaN            NaN    H   \n",
       "4            0               0          0         NaN            NaN    E   \n",
       "\n",
       "   TP_PRESENCA_CN Q047  NU_NOTA_CH  TP_ENSINO  NU_NOTA_COMP3  NU_NOTA_COMP5  \\\n",
       "0               1    A       495.4        NaN          120.0           80.0   \n",
       "1               1    A       544.1        1.0          120.0           80.0   \n",
       "2               0    A         NaN        NaN            NaN            NaN   \n",
       "3               0    D         NaN        NaN            NaN            NaN   \n",
       "4               0    A         NaN        NaN            NaN            NaN   \n",
       "\n",
       "  Q025 TP_SEXO  IN_SABATISTA Q026  CO_UF_RESIDENCIA  NU_NOTA_LC  TP_LINGUA  \\\n",
       "0    A       M             0    C                43       581.2          1   \n",
       "1    A       F             0    A                23       599.0          1   \n",
       "2    A       F             0    A                23         NaN          1   \n",
       "3    B       F             0    C                33         NaN          0   \n",
       "4    A       M             0    B                13         NaN          1   \n",
       "\n",
       "   IN_DISCALCULIA  NU_NOTA_COMP1  IN_TREINEIRO  \n",
       "0               0          120.0             0  \n",
       "1               0          140.0             0  \n",
       "2               0            NaN             0  \n",
       "3               0            NaN             0  \n",
       "4               0            NaN             0  "
      ]
     },
     "execution_count": 42,
     "metadata": {},
     "output_type": "execute_result"
    }
   ],
   "source": [
    "pd.set_option('display.max_columns', 500)\n",
    "\n",
    "train.head()"
   ]
  },
  {
   "cell_type": "code",
   "execution_count": 43,
   "metadata": {},
   "outputs": [
    {
     "data": {
      "text/plain": [
       "NU_NOTA_REDACAO           float64\n",
       "TP_ST_CONCLUSAO             int64\n",
       "TP_STATUS_REDACAO         float64\n",
       "IN_GESTANTE                 int64\n",
       "TP_PRESENCA_MT              int64\n",
       "TP_ESCOLA                   int64\n",
       "IN_DISLEXIA                 int64\n",
       "Q027                       object\n",
       "NU_IDADE                    int64\n",
       "IN_BAIXA_VISAO              int64\n",
       "TP_PRESENCA_CH              int64\n",
       "IN_IDOSO                    int64\n",
       "Q006                       object\n",
       "Q024                       object\n",
       "TP_ANO_CONCLUIU             int64\n",
       "Q002                       object\n",
       "SG_UF_RESIDENCIA           object\n",
       "TP_COR_RACA                 int64\n",
       "TP_DEPENDENCIA_ADM_ESC    float64\n",
       "NU_NOTA_COMP2             float64\n",
       "TP_NACIONALIDADE            int64\n",
       "IN_CEGUEIRA                 int64\n",
       "TP_PRESENCA_LC              int64\n",
       "IN_SURDEZ                   int64\n",
       "NU_NOTA_CN                float64\n",
       "NU_NOTA_COMP4             float64\n",
       "Q001                       object\n",
       "TP_PRESENCA_CN              int64\n",
       "Q047                       object\n",
       "NU_NOTA_CH                float64\n",
       "TP_ENSINO                 float64\n",
       "NU_NOTA_COMP3             float64\n",
       "NU_NOTA_COMP5             float64\n",
       "Q025                       object\n",
       "TP_SEXO                    object\n",
       "IN_SABATISTA                int64\n",
       "Q026                       object\n",
       "CO_UF_RESIDENCIA            int64\n",
       "NU_NOTA_LC                float64\n",
       "TP_LINGUA                   int64\n",
       "IN_DISCALCULIA              int64\n",
       "NU_NOTA_COMP1             float64\n",
       "IN_TREINEIRO                int64\n",
       "dtype: object"
      ]
     },
     "execution_count": 43,
     "metadata": {},
     "output_type": "execute_result"
    }
   ],
   "source": [
    "train.dtypes"
   ]
  },
  {
   "cell_type": "code",
   "execution_count": 44,
   "metadata": {},
   "outputs": [],
   "source": [
    "def obj2str(df, features):\n",
    "    for a in features:\n",
    "        df[a] = df[a].astype(str)\n",
    "    return df\n",
    "\n",
    "train = obj2str(train, object_features_train)\n",
    "test = obj2str(test, object_features_test)"
   ]
  },
  {
   "cell_type": "code",
   "execution_count": 45,
   "metadata": {},
   "outputs": [],
   "source": [
    "from sklearn.preprocessing import LabelEncoder\n",
    "labelencoder_previsores = LabelEncoder()\n",
    "\n",
    "def label_encoder(df, feat_le):\n",
    "    le = LabelEncoder()\n",
    "    for ft in feat_le:\n",
    "        df[:,ft] = le.fit_transform(df[:,ft])\n",
    "    return df \n",
    "\n",
    "train = pd.DataFrame(label_encoder(train.values, feat_le_train), columns = train.columns).astype(float)\n",
    "test = pd.DataFrame(label_encoder(test.values, feat_le_test), columns = test.columns).astype(float)"
   ]
  },
  {
   "cell_type": "markdown",
   "metadata": {},
   "source": [
    "# Análise de PCA"
   ]
  },
  {
   "cell_type": "code",
   "execution_count": 46,
   "metadata": {},
   "outputs": [],
   "source": [
    "# %% Preencher os valores missing com 0:\n",
    "from sklearn.impute import SimpleImputer\n",
    "\n",
    "train_imputer = SimpleImputer(missing_values=np.nan, strategy='constant',fill_value = 0)\n",
    "test_imputer = SimpleImputer(missing_values=np.nan, strategy='constant',fill_value = 0)\n",
    "\n",
    "train = pd.DataFrame(train_imputer.fit_transform(train), columns = train.columns).astype(float)\n",
    "test = pd.DataFrame(test_imputer.fit_transform(test), columns = test.columns).astype(float)\n"
   ]
  },
  {
   "cell_type": "code",
   "execution_count": 47,
   "metadata": {},
   "outputs": [],
   "source": [
    "X = train.drop('IN_TREINEIRO', axis = 1)\n",
    "y = train['IN_TREINEIRO']"
   ]
  },
  {
   "cell_type": "markdown",
   "metadata": {},
   "source": [
    "### Análise da variância explicada por cada componente principal"
   ]
  },
  {
   "cell_type": "code",
   "execution_count": 48,
   "metadata": {},
   "outputs": [
    {
     "data": {
      "text/plain": [
       "[<matplotlib.lines.Line2D at 0x7f2f3a464850>]"
      ]
     },
     "execution_count": 48,
     "metadata": {},
     "output_type": "execute_result"
    },
    {
     "data": {
      "image/png": "[encoded data removed]",
      "text/plain": [
       "<Figure size 720x576 with 1 Axes>"
      ]
     },
     "metadata": {
      "needs_background": "dark"
     },
     "output_type": "display_data"
    }
   ],
   "source": [
    "plt.figure(figsize = (10,8))\n",
    "\n",
    "\n",
    "from sklearn.decomposition import PCA\n",
    "pca_train = PCA(n_components=20)\n",
    "pca_fitted_train = pca_train.fit(X)\n",
    "\n",
    "var_cumsum = pca_fitted_train.explained_variance_ratio_.cumsum()\n",
    "\n",
    "plt.plot(var_cumsum)\n"
   ]
  },
  {
   "cell_type": "markdown",
   "metadata": {},
   "source": [
    "## Com 5 componentes já é possível explicar mais que 99 % da variância dos dados"
   ]
  },
  {
   "cell_type": "code",
   "execution_count": 51,
   "metadata": {},
   "outputs": [],
   "source": [
    "pca_train = PCA(n_components=5)\n",
    "pca_fitted_train = pca_train.fit(X)\n",
    "X = pca_fitted_train.transform(X)\n",
    "\n",
    "pca_submission = PCA(n_components = 5)\n",
    "pca_fitted_submission = pca_submission.fit(test)\n",
    "submission = pca_fitted_submission.transform(test)"
   ]
  },
  {
   "cell_type": "markdown",
   "metadata": {},
   "source": [
    "### Separação dos dados entre treinaamento e validação"
   ]
  },
  {
   "cell_type": "code",
   "execution_count": 52,
   "metadata": {},
   "outputs": [],
   "source": [
    "from sklearn.model_selection import train_test_split\n",
    "X_train, X_test, y_train, y_test = train_test_split(X, y, \n",
    "                                                    test_size = 0.3, \n",
    "                                                    random_state = 42)"
   ]
  },
  {
   "cell_type": "code",
   "execution_count": 53,
   "metadata": {},
   "outputs": [
    {
     "data": {
      "text/plain": [
       "RandomForestClassifier(bootstrap=True, ccp_alpha=0.0, class_weight=None,\n",
       "                       criterion='entropy', max_depth=None, max_features='auto',\n",
       "                       max_leaf_nodes=None, max_samples=None,\n",
       "                       min_impurity_decrease=0.0, min_impurity_split=None,\n",
       "                       min_samples_leaf=1, min_samples_split=2,\n",
       "                       min_weight_fraction_leaf=0.0, n_estimators=200,\n",
       "                       n_jobs=None, oob_score=False, random_state=42, verbose=0,\n",
       "                       warm_start=False)"
      ]
     },
     "execution_count": 53,
     "metadata": {},
     "output_type": "execute_result"
    }
   ],
   "source": [
    "from sklearn.ensemble import RandomForestClassifier\n",
    "\n",
    "model =  RandomForestClassifier(n_estimators=200,\n",
    "                                criterion = 'entropy',\n",
    "                                   random_state=42)\n",
    "\n",
    "model.fit(X_train, y_train)\n"
   ]
  },
  {
   "cell_type": "markdown",
   "metadata": {},
   "source": [
    "### Predição com métricas de performance do modelo"
   ]
  },
  {
   "cell_type": "code",
   "execution_count": 54,
   "metadata": {},
   "outputs": [
    {
     "name": "stdout",
     "output_type": "stream",
     "text": [
      "Matriz de confusão \n",
      ": [[3559   18]\n",
      " [ 507   35]] \n",
      " \n",
      " Acurácia do modelo sobre os dados de validação  0.8725418790968682\n"
     ]
    }
   ],
   "source": [
    "predicao = model.predict(X_test)\n",
    "\n",
    "from sklearn.metrics import confusion_matrix, accuracy_score\n",
    "\n",
    "matriz = confusion_matrix(y_test, predicao); matriz\n",
    "\n",
    "acuracia = accuracy_score(y_test, predicao); acuracia\n",
    "\n",
    "print('Matriz de confusão \\n:', matriz, '\\n \\n Acurácia do modelo sobre os dados de validação ',acuracia)"
   ]
  },
  {
   "cell_type": "markdown",
   "metadata": {},
   "source": [
    "# Modelo com PCA não se saiu melhor. \n",
    "\n",
    "- Isto talvez seja explicado porque desta maneira há também a inclusão de variáveis que possuem baixa correlação com nossa variável target IN_TREINEIRO. \n",
    "- A melhor performance foi atingida mesmo ao se utilizar das variáveis que possuem maior correlação com a target"
   ]
  }
 ],
 "metadata": {
  "colab": {
   "collapsed_sections": [],
   "name": "DesafioAtual_v3.ipynb",
   "provenance": []
  },
  "kernelspec": {
   "display_name": "Python 3",
   "language": "python",
   "name": "python3"
  },
  "language_info": {
   "codemirror_mode": {
    "name": "ipython",
    "version": 3
   },
   "file_extension": ".py",
   "mimetype": "text/x-python",
   "name": "python",
   "nbconvert_exporter": "python",
   "pygments_lexer": "ipython3",
   "version": "3.7.6"
  }
 },
 "nbformat": 4,
 "nbformat_minor": 1
}
