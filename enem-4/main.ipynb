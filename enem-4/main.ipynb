{
 "cells": [
  {
   "cell_type": "code",
   "execution_count": 262,
   "metadata": {
    "colab": {},
    "colab_type": "code",
    "id": "shKg6OVChp8m"
   },
   "outputs": [],
   "source": [
    "import pandas as pd\n",
    "import numpy as np\n",
    "import matplotlib.pyplot as plt\n",
    "from matplotlib import style\n",
    "style.use('dark_background')\n",
    "import seaborn as sns\n",
    "from sklearn.ensemble import RandomForestRegressor\n",
    "\n",
    "%matplotlib inline"
   ]
  },
  {
   "cell_type": "code",
   "execution_count": 263,
   "metadata": {},
   "outputs": [],
   "source": [
    "train = pd.read_csv('train.csv')\n",
    "test = pd.read_csv('test.csv')"
   ]
  },
  {
   "cell_type": "markdown",
   "metadata": {},
   "source": [
    "### Dataset de teste possui apenas 43 colunas e dataset de treino possui 167"
   ]
  },
  {
   "cell_type": "code",
   "execution_count": 264,
   "metadata": {},
   "outputs": [
    {
     "name": "stdout",
     "output_type": "stream",
     "text": [
      "Shape Test: (4570, 43) and Shape Train: (13730, 167)\n"
     ]
    }
   ],
   "source": [
    "print(f'Shape Test: {test.shape} and Shape Train: {train.shape}')"
   ]
  },
  {
   "cell_type": "markdown",
   "metadata": {},
   "source": [
    "### Lista de variáveis presentes no dataset de teste"
   ]
  },
  {
   "cell_type": "code",
   "execution_count": 265,
   "metadata": {},
   "outputs": [],
   "source": [
    "test_features = list(test)\n",
    "train_features = list(train)"
   ]
  },
  {
   "cell_type": "code",
   "execution_count": 266,
   "metadata": {},
   "outputs": [
    {
     "name": "stdout",
     "output_type": "stream",
     "text": [
      "New shape of train (13730, 44)\n"
     ]
    }
   ],
   "source": [
    "newtrain_features = list(set(train_features).intersection(set(test_features)))\n",
    "\n",
    "newtrain_features.append('IN_TREINEIRO')\n",
    "\n",
    "train = train[newtrain_features]\n",
    "\n",
    "print(f'New shape of train {train.shape}')"
   ]
  },
  {
   "cell_type": "code",
   "execution_count": 267,
   "metadata": {},
   "outputs": [],
   "source": [
    "train = train.drop('NU_INSCRICAO', axis = 1)\n",
    "test = test.drop('NU_INSCRICAO', axis = 1)\n",
    "\n",
    "object_features_train = list(train.select_dtypes(include = 'object'))\n",
    "object_features_test = list(test.select_dtypes(include = 'object'))\n",
    "\n",
    "feat_le_train = [train.columns.get_loc(a) for a in object_features_train]\n",
    "feat_le_test = [test.columns.get_loc(a) for a in object_features_test]"
   ]
  },
  {
   "cell_type": "code",
   "execution_count": 268,
   "metadata": {},
   "outputs": [
    {
     "data": {
      "text/html": [
       "<div>\n",
       "<style scoped>\n",
       "    .dataframe tbody tr th:only-of-type {\n",
       "        vertical-align: middle;\n",
       "    }\n",
       "\n",
       "    .dataframe tbody tr th {\n",
       "        vertical-align: top;\n",
       "    }\n",
       "\n",
       "    .dataframe thead th {\n",
       "        text-align: right;\n",
       "    }\n",
       "</style>\n",
       "<table border=\"1\" class=\"dataframe\">\n",
       "  <thead>\n",
       "    <tr style=\"text-align: right;\">\n",
       "      <th></th>\n",
       "      <th>IN_DISLEXIA</th>\n",
       "      <th>TP_PRESENCA_CH</th>\n",
       "      <th>NU_NOTA_COMP2</th>\n",
       "      <th>NU_NOTA_COMP4</th>\n",
       "      <th>Q001</th>\n",
       "      <th>CO_UF_RESIDENCIA</th>\n",
       "      <th>Q027</th>\n",
       "      <th>TP_COR_RACA</th>\n",
       "      <th>IN_BAIXA_VISAO</th>\n",
       "      <th>TP_ANO_CONCLUIU</th>\n",
       "      <th>Q002</th>\n",
       "      <th>TP_ENSINO</th>\n",
       "      <th>IN_GESTANTE</th>\n",
       "      <th>TP_PRESENCA_LC</th>\n",
       "      <th>SG_UF_RESIDENCIA</th>\n",
       "      <th>NU_IDADE</th>\n",
       "      <th>NU_NOTA_CH</th>\n",
       "      <th>IN_SURDEZ</th>\n",
       "      <th>IN_CEGUEIRA</th>\n",
       "      <th>TP_ESCOLA</th>\n",
       "      <th>TP_LINGUA</th>\n",
       "      <th>NU_NOTA_COMP3</th>\n",
       "      <th>IN_SABATISTA</th>\n",
       "      <th>TP_STATUS_REDACAO</th>\n",
       "      <th>Q026</th>\n",
       "      <th>TP_DEPENDENCIA_ADM_ESC</th>\n",
       "      <th>TP_NACIONALIDADE</th>\n",
       "      <th>Q006</th>\n",
       "      <th>TP_PRESENCA_CN</th>\n",
       "      <th>Q025</th>\n",
       "      <th>NU_NOTA_REDACAO</th>\n",
       "      <th>Q047</th>\n",
       "      <th>NU_NOTA_CN</th>\n",
       "      <th>TP_SEXO</th>\n",
       "      <th>IN_DISCALCULIA</th>\n",
       "      <th>NU_NOTA_COMP1</th>\n",
       "      <th>Q024</th>\n",
       "      <th>NU_NOTA_COMP5</th>\n",
       "      <th>NU_NOTA_LC</th>\n",
       "      <th>TP_PRESENCA_MT</th>\n",
       "      <th>TP_ST_CONCLUSAO</th>\n",
       "      <th>IN_IDOSO</th>\n",
       "      <th>IN_TREINEIRO</th>\n",
       "    </tr>\n",
       "  </thead>\n",
       "  <tbody>\n",
       "    <tr>\n",
       "      <th>0</th>\n",
       "      <td>0</td>\n",
       "      <td>1</td>\n",
       "      <td>120.0</td>\n",
       "      <td>80.0</td>\n",
       "      <td>D</td>\n",
       "      <td>43</td>\n",
       "      <td>H</td>\n",
       "      <td>1</td>\n",
       "      <td>0</td>\n",
       "      <td>4</td>\n",
       "      <td>D</td>\n",
       "      <td>NaN</td>\n",
       "      <td>0</td>\n",
       "      <td>1</td>\n",
       "      <td>RS</td>\n",
       "      <td>24</td>\n",
       "      <td>495.4</td>\n",
       "      <td>0</td>\n",
       "      <td>0</td>\n",
       "      <td>1</td>\n",
       "      <td>1</td>\n",
       "      <td>120.0</td>\n",
       "      <td>0</td>\n",
       "      <td>1.0</td>\n",
       "      <td>C</td>\n",
       "      <td>NaN</td>\n",
       "      <td>1</td>\n",
       "      <td>C</td>\n",
       "      <td>1</td>\n",
       "      <td>A</td>\n",
       "      <td>520.0</td>\n",
       "      <td>A</td>\n",
       "      <td>436.3</td>\n",
       "      <td>M</td>\n",
       "      <td>0</td>\n",
       "      <td>120.0</td>\n",
       "      <td>A</td>\n",
       "      <td>80.0</td>\n",
       "      <td>581.2</td>\n",
       "      <td>1</td>\n",
       "      <td>1</td>\n",
       "      <td>0</td>\n",
       "      <td>0</td>\n",
       "    </tr>\n",
       "    <tr>\n",
       "      <th>1</th>\n",
       "      <td>0</td>\n",
       "      <td>1</td>\n",
       "      <td>120.0</td>\n",
       "      <td>120.0</td>\n",
       "      <td>A</td>\n",
       "      <td>23</td>\n",
       "      <td>NaN</td>\n",
       "      <td>3</td>\n",
       "      <td>0</td>\n",
       "      <td>0</td>\n",
       "      <td>A</td>\n",
       "      <td>1.0</td>\n",
       "      <td>0</td>\n",
       "      <td>1</td>\n",
       "      <td>CE</td>\n",
       "      <td>17</td>\n",
       "      <td>544.1</td>\n",
       "      <td>0</td>\n",
       "      <td>0</td>\n",
       "      <td>2</td>\n",
       "      <td>1</td>\n",
       "      <td>120.0</td>\n",
       "      <td>0</td>\n",
       "      <td>1.0</td>\n",
       "      <td>A</td>\n",
       "      <td>2.0</td>\n",
       "      <td>1</td>\n",
       "      <td>B</td>\n",
       "      <td>1</td>\n",
       "      <td>A</td>\n",
       "      <td>580.0</td>\n",
       "      <td>A</td>\n",
       "      <td>474.5</td>\n",
       "      <td>F</td>\n",
       "      <td>0</td>\n",
       "      <td>140.0</td>\n",
       "      <td>A</td>\n",
       "      <td>80.0</td>\n",
       "      <td>599.0</td>\n",
       "      <td>1</td>\n",
       "      <td>2</td>\n",
       "      <td>0</td>\n",
       "      <td>0</td>\n",
       "    </tr>\n",
       "    <tr>\n",
       "      <th>2</th>\n",
       "      <td>0</td>\n",
       "      <td>0</td>\n",
       "      <td>NaN</td>\n",
       "      <td>NaN</td>\n",
       "      <td>D</td>\n",
       "      <td>23</td>\n",
       "      <td>NaN</td>\n",
       "      <td>3</td>\n",
       "      <td>0</td>\n",
       "      <td>0</td>\n",
       "      <td>D</td>\n",
       "      <td>NaN</td>\n",
       "      <td>0</td>\n",
       "      <td>0</td>\n",
       "      <td>CE</td>\n",
       "      <td>21</td>\n",
       "      <td>NaN</td>\n",
       "      <td>0</td>\n",
       "      <td>0</td>\n",
       "      <td>1</td>\n",
       "      <td>1</td>\n",
       "      <td>NaN</td>\n",
       "      <td>0</td>\n",
       "      <td>NaN</td>\n",
       "      <td>A</td>\n",
       "      <td>NaN</td>\n",
       "      <td>1</td>\n",
       "      <td>C</td>\n",
       "      <td>0</td>\n",
       "      <td>A</td>\n",
       "      <td>NaN</td>\n",
       "      <td>A</td>\n",
       "      <td>NaN</td>\n",
       "      <td>F</td>\n",
       "      <td>0</td>\n",
       "      <td>NaN</td>\n",
       "      <td>A</td>\n",
       "      <td>NaN</td>\n",
       "      <td>NaN</td>\n",
       "      <td>0</td>\n",
       "      <td>3</td>\n",
       "      <td>0</td>\n",
       "      <td>0</td>\n",
       "    </tr>\n",
       "    <tr>\n",
       "      <th>3</th>\n",
       "      <td>0</td>\n",
       "      <td>0</td>\n",
       "      <td>NaN</td>\n",
       "      <td>NaN</td>\n",
       "      <td>H</td>\n",
       "      <td>33</td>\n",
       "      <td>F</td>\n",
       "      <td>0</td>\n",
       "      <td>0</td>\n",
       "      <td>9</td>\n",
       "      <td>E</td>\n",
       "      <td>NaN</td>\n",
       "      <td>0</td>\n",
       "      <td>0</td>\n",
       "      <td>RJ</td>\n",
       "      <td>25</td>\n",
       "      <td>NaN</td>\n",
       "      <td>0</td>\n",
       "      <td>0</td>\n",
       "      <td>1</td>\n",
       "      <td>0</td>\n",
       "      <td>NaN</td>\n",
       "      <td>0</td>\n",
       "      <td>NaN</td>\n",
       "      <td>C</td>\n",
       "      <td>NaN</td>\n",
       "      <td>1</td>\n",
       "      <td>E</td>\n",
       "      <td>0</td>\n",
       "      <td>B</td>\n",
       "      <td>NaN</td>\n",
       "      <td>D</td>\n",
       "      <td>NaN</td>\n",
       "      <td>F</td>\n",
       "      <td>0</td>\n",
       "      <td>NaN</td>\n",
       "      <td>C</td>\n",
       "      <td>NaN</td>\n",
       "      <td>NaN</td>\n",
       "      <td>0</td>\n",
       "      <td>1</td>\n",
       "      <td>0</td>\n",
       "      <td>0</td>\n",
       "    </tr>\n",
       "    <tr>\n",
       "      <th>4</th>\n",
       "      <td>0</td>\n",
       "      <td>0</td>\n",
       "      <td>NaN</td>\n",
       "      <td>NaN</td>\n",
       "      <td>E</td>\n",
       "      <td>13</td>\n",
       "      <td>F</td>\n",
       "      <td>2</td>\n",
       "      <td>0</td>\n",
       "      <td>4</td>\n",
       "      <td>D</td>\n",
       "      <td>NaN</td>\n",
       "      <td>0</td>\n",
       "      <td>0</td>\n",
       "      <td>AM</td>\n",
       "      <td>28</td>\n",
       "      <td>NaN</td>\n",
       "      <td>0</td>\n",
       "      <td>0</td>\n",
       "      <td>1</td>\n",
       "      <td>1</td>\n",
       "      <td>NaN</td>\n",
       "      <td>0</td>\n",
       "      <td>NaN</td>\n",
       "      <td>B</td>\n",
       "      <td>NaN</td>\n",
       "      <td>1</td>\n",
       "      <td>C</td>\n",
       "      <td>0</td>\n",
       "      <td>A</td>\n",
       "      <td>NaN</td>\n",
       "      <td>A</td>\n",
       "      <td>NaN</td>\n",
       "      <td>M</td>\n",
       "      <td>0</td>\n",
       "      <td>NaN</td>\n",
       "      <td>A</td>\n",
       "      <td>NaN</td>\n",
       "      <td>NaN</td>\n",
       "      <td>0</td>\n",
       "      <td>1</td>\n",
       "      <td>0</td>\n",
       "      <td>0</td>\n",
       "    </tr>\n",
       "  </tbody>\n",
       "</table>\n",
       "</div>"
      ],
      "text/plain": [
       "   IN_DISLEXIA  TP_PRESENCA_CH  NU_NOTA_COMP2  NU_NOTA_COMP4 Q001  \\\n",
       "0            0               1          120.0           80.0    D   \n",
       "1            0               1          120.0          120.0    A   \n",
       "2            0               0            NaN            NaN    D   \n",
       "3            0               0            NaN            NaN    H   \n",
       "4            0               0            NaN            NaN    E   \n",
       "\n",
       "   CO_UF_RESIDENCIA Q027  TP_COR_RACA  IN_BAIXA_VISAO  TP_ANO_CONCLUIU Q002  \\\n",
       "0                43    H            1               0                4    D   \n",
       "1                23  NaN            3               0                0    A   \n",
       "2                23  NaN            3               0                0    D   \n",
       "3                33    F            0               0                9    E   \n",
       "4                13    F            2               0                4    D   \n",
       "\n",
       "   TP_ENSINO  IN_GESTANTE  TP_PRESENCA_LC SG_UF_RESIDENCIA  NU_IDADE  \\\n",
       "0        NaN            0               1               RS        24   \n",
       "1        1.0            0               1               CE        17   \n",
       "2        NaN            0               0               CE        21   \n",
       "3        NaN            0               0               RJ        25   \n",
       "4        NaN            0               0               AM        28   \n",
       "\n",
       "   NU_NOTA_CH  IN_SURDEZ  IN_CEGUEIRA  TP_ESCOLA  TP_LINGUA  NU_NOTA_COMP3  \\\n",
       "0       495.4          0            0          1          1          120.0   \n",
       "1       544.1          0            0          2          1          120.0   \n",
       "2         NaN          0            0          1          1            NaN   \n",
       "3         NaN          0            0          1          0            NaN   \n",
       "4         NaN          0            0          1          1            NaN   \n",
       "\n",
       "   IN_SABATISTA  TP_STATUS_REDACAO Q026  TP_DEPENDENCIA_ADM_ESC  \\\n",
       "0             0                1.0    C                     NaN   \n",
       "1             0                1.0    A                     2.0   \n",
       "2             0                NaN    A                     NaN   \n",
       "3             0                NaN    C                     NaN   \n",
       "4             0                NaN    B                     NaN   \n",
       "\n",
       "   TP_NACIONALIDADE Q006  TP_PRESENCA_CN Q025  NU_NOTA_REDACAO Q047  \\\n",
       "0                 1    C               1    A            520.0    A   \n",
       "1                 1    B               1    A            580.0    A   \n",
       "2                 1    C               0    A              NaN    A   \n",
       "3                 1    E               0    B              NaN    D   \n",
       "4                 1    C               0    A              NaN    A   \n",
       "\n",
       "   NU_NOTA_CN TP_SEXO  IN_DISCALCULIA  NU_NOTA_COMP1 Q024  NU_NOTA_COMP5  \\\n",
       "0       436.3       M               0          120.0    A           80.0   \n",
       "1       474.5       F               0          140.0    A           80.0   \n",
       "2         NaN       F               0            NaN    A            NaN   \n",
       "3         NaN       F               0            NaN    C            NaN   \n",
       "4         NaN       M               0            NaN    A            NaN   \n",
       "\n",
       "   NU_NOTA_LC  TP_PRESENCA_MT  TP_ST_CONCLUSAO  IN_IDOSO  IN_TREINEIRO  \n",
       "0       581.2               1                1         0             0  \n",
       "1       599.0               1                2         0             0  \n",
       "2         NaN               0                3         0             0  \n",
       "3         NaN               0                1         0             0  \n",
       "4         NaN               0                1         0             0  "
      ]
     },
     "execution_count": 268,
     "metadata": {},
     "output_type": "execute_result"
    }
   ],
   "source": [
    "pd.set_option('display.max_columns', 500)\n",
    "\n",
    "train.head()"
   ]
  },
  {
   "cell_type": "code",
   "execution_count": 269,
   "metadata": {},
   "outputs": [
    {
     "data": {
      "text/plain": [
       "IN_DISLEXIA                 int64\n",
       "TP_PRESENCA_CH              int64\n",
       "NU_NOTA_COMP2             float64\n",
       "NU_NOTA_COMP4             float64\n",
       "Q001                       object\n",
       "CO_UF_RESIDENCIA            int64\n",
       "Q027                       object\n",
       "TP_COR_RACA                 int64\n",
       "IN_BAIXA_VISAO              int64\n",
       "TP_ANO_CONCLUIU             int64\n",
       "Q002                       object\n",
       "TP_ENSINO                 float64\n",
       "IN_GESTANTE                 int64\n",
       "TP_PRESENCA_LC              int64\n",
       "SG_UF_RESIDENCIA           object\n",
       "NU_IDADE                    int64\n",
       "NU_NOTA_CH                float64\n",
       "IN_SURDEZ                   int64\n",
       "IN_CEGUEIRA                 int64\n",
       "TP_ESCOLA                   int64\n",
       "TP_LINGUA                   int64\n",
       "NU_NOTA_COMP3             float64\n",
       "IN_SABATISTA                int64\n",
       "TP_STATUS_REDACAO         float64\n",
       "Q026                       object\n",
       "TP_DEPENDENCIA_ADM_ESC    float64\n",
       "TP_NACIONALIDADE            int64\n",
       "Q006                       object\n",
       "TP_PRESENCA_CN              int64\n",
       "Q025                       object\n",
       "NU_NOTA_REDACAO           float64\n",
       "Q047                       object\n",
       "NU_NOTA_CN                float64\n",
       "TP_SEXO                    object\n",
       "IN_DISCALCULIA              int64\n",
       "NU_NOTA_COMP1             float64\n",
       "Q024                       object\n",
       "NU_NOTA_COMP5             float64\n",
       "NU_NOTA_LC                float64\n",
       "TP_PRESENCA_MT              int64\n",
       "TP_ST_CONCLUSAO             int64\n",
       "IN_IDOSO                    int64\n",
       "IN_TREINEIRO                int64\n",
       "dtype: object"
      ]
     },
     "execution_count": 269,
     "metadata": {},
     "output_type": "execute_result"
    }
   ],
   "source": [
    "train.dtypes"
   ]
  },
  {
   "cell_type": "code",
   "execution_count": 270,
   "metadata": {},
   "outputs": [],
   "source": [
    "def obj2str(df, features):\n",
    "    for a in features:\n",
    "        df[a] = df[a].astype(str)\n",
    "    return df\n",
    "\n",
    "train = obj2str(train, object_features_train)\n",
    "test = obj2str(test, object_features_test)"
   ]
  },
  {
   "cell_type": "code",
   "execution_count": 271,
   "metadata": {},
   "outputs": [],
   "source": [
    "from sklearn.preprocessing import LabelEncoder\n",
    "labelencoder_previsores = LabelEncoder()\n",
    "\n",
    "def label_encoder(df, feat_le):\n",
    "    le = LabelEncoder()\n",
    "    for ft in feat_le:\n",
    "        df[:,ft] = le.fit_transform(df[:,ft])\n",
    "    return df \n",
    "\n",
    "train = pd.DataFrame(label_encoder(train.values, feat_le_train), columns = train.columns).astype(float)\n",
    "test = pd.DataFrame(label_encoder(test.values, feat_le_test), columns = test.columns).astype(float)"
   ]
  },
  {
   "cell_type": "markdown",
   "metadata": {},
   "source": [
    "# Análise de correlação para encontrar quais variáveis possuem maior influência sobre IN_TREINEIRO"
   ]
  },
  {
   "cell_type": "markdown",
   "metadata": {},
   "source": [
    "- Observa-se que até o quinto elemento há uma correlação próxima ou acima de 0,1. \n",
    "- Após a feature TP_PRESENCA_LC a correlação cai para valores próximos de 0,01. "
   ]
  },
  {
   "cell_type": "code",
   "execution_count": 272,
   "metadata": {},
   "outputs": [
    {
     "data": {
      "text/plain": [
       "pandas.core.frame.DataFrame"
      ]
     },
     "execution_count": 272,
     "metadata": {},
     "output_type": "execute_result"
    }
   ],
   "source": [
    "type(train)"
   ]
  },
  {
   "cell_type": "code",
   "execution_count": 273,
   "metadata": {},
   "outputs": [
    {
     "data": {
      "text/plain": [
       "IN_TREINEIRO         1.000000\n",
       "TP_ST_CONCLUSAO      0.533983\n",
       "Q027                 0.244396\n",
       "TP_PRESENCA_CH       0.094692\n",
       "TP_PRESENCA_CN       0.094692\n",
       "TP_PRESENCA_MT       0.092454\n",
       "TP_PRESENCA_LC       0.092454\n",
       "Q002                 0.090212\n",
       "Q001                 0.074647\n",
       "Q047                 0.069564\n",
       "Q006                 0.017735\n",
       "Q024                 0.011875\n",
       "TP_COR_RACA          0.009676\n",
       "TP_STATUS_REDACAO    0.006688\n",
       "IN_SABATISTA         0.003824\n",
       "Name: IN_TREINEIRO, dtype: float64"
      ]
     },
     "execution_count": 273,
     "metadata": {},
     "output_type": "execute_result"
    }
   ],
   "source": [
    "corr = train.corr()\n",
    "\n",
    "corr.IN_TREINEIRO.sort_values(ascending = False)[:15]"
   ]
  },
  {
   "cell_type": "code",
   "execution_count": 274,
   "metadata": {},
   "outputs": [
    {
     "data": {
      "text/plain": [
       "['TP_ST_CONCLUSAO',\n",
       " 'Q027',\n",
       " 'TP_PRESENCA_CH',\n",
       " 'TP_PRESENCA_CN',\n",
       " 'TP_PRESENCA_MT',\n",
       " 'TP_PRESENCA_LC',\n",
       " 'Q002',\n",
       " 'Q001',\n",
       " 'Q047',\n",
       " 'Q006',\n",
       " 'Q024']"
      ]
     },
     "execution_count": 274,
     "metadata": {},
     "output_type": "execute_result"
    }
   ],
   "source": [
    "corr_pos = list(corr.IN_TREINEIRO.sort_values(ascending= False)[1:12].index); corr_pos"
   ]
  },
  {
   "cell_type": "code",
   "execution_count": 275,
   "metadata": {},
   "outputs": [
    {
     "data": {
      "text/plain": [
       "NU_IDADE           -0.295091\n",
       "Q026               -0.260433\n",
       "TP_ANO_CONCLUIU    -0.257710\n",
       "TP_ESCOLA          -0.244562\n",
       "SG_UF_RESIDENCIA   -0.102582\n",
       "NU_NOTA_CH         -0.053460\n",
       "NU_NOTA_CN         -0.037874\n",
       "TP_LINGUA          -0.036395\n",
       "CO_UF_RESIDENCIA   -0.034944\n",
       "NU_NOTA_COMP3      -0.030147\n",
       "Name: IN_TREINEIRO, dtype: float64"
      ]
     },
     "execution_count": 275,
     "metadata": {},
     "output_type": "execute_result"
    }
   ],
   "source": [
    "corr.IN_TREINEIRO.sort_values(ascending =  True)[:10]"
   ]
  },
  {
   "cell_type": "code",
   "execution_count": 276,
   "metadata": {},
   "outputs": [
    {
     "data": {
      "text/plain": [
       "['NU_IDADE', 'Q026', 'TP_ANO_CONCLUIU', 'TP_ESCOLA', 'SG_UF_RESIDENCIA']"
      ]
     },
     "execution_count": 276,
     "metadata": {},
     "output_type": "execute_result"
    }
   ],
   "source": [
    "corr_neg = list(corr.IN_TREINEIRO.sort_values(ascending=True)[:5].index); corr_neg"
   ]
  },
  {
   "cell_type": "code",
   "execution_count": 277,
   "metadata": {},
   "outputs": [
    {
     "data": {
      "text/plain": [
       "['TP_ST_CONCLUSAO',\n",
       " 'Q027',\n",
       " 'TP_PRESENCA_CH',\n",
       " 'TP_PRESENCA_CN',\n",
       " 'TP_PRESENCA_MT',\n",
       " 'TP_PRESENCA_LC',\n",
       " 'Q002',\n",
       " 'Q001',\n",
       " 'Q047',\n",
       " 'Q006',\n",
       " 'Q024',\n",
       " 'NU_IDADE',\n",
       " 'Q026',\n",
       " 'TP_ANO_CONCLUIU',\n",
       " 'TP_ESCOLA',\n",
       " 'SG_UF_RESIDENCIA']"
      ]
     },
     "execution_count": 277,
     "metadata": {},
     "output_type": "execute_result"
    }
   ],
   "source": [
    "corr_list = corr_pos + corr_neg; corr_list"
   ]
  },
  {
   "cell_type": "markdown",
   "metadata": {},
   "source": [
    "### Atribuição das features que serão utilizadas no treinamento do modelo"
   ]
  },
  {
   "cell_type": "code",
   "execution_count": 284,
   "metadata": {},
   "outputs": [
    {
     "name": "stdout",
     "output_type": "stream",
     "text": [
      "Train columns ['TP_ST_CONCLUSAO', 'Q027', 'TP_PRESENCA_CH', 'TP_PRESENCA_CN', 'TP_PRESENCA_MT', 'TP_PRESENCA_LC', 'Q002', 'Q001', 'Q047', 'Q006', 'Q024', 'NU_IDADE', 'Q026', 'TP_ANO_CONCLUIU', 'TP_ESCOLA', 'SG_UF_RESIDENCIA', 'IN_TREINEIRO'] \n",
      " \n",
      " Test columns ['TP_ST_CONCLUSAO', 'Q027', 'TP_PRESENCA_CH', 'TP_PRESENCA_CN', 'TP_PRESENCA_MT', 'TP_PRESENCA_LC', 'Q002', 'Q001', 'Q047', 'Q006', 'Q024', 'NU_IDADE', 'Q026', 'TP_ANO_CONCLUIU', 'TP_ESCOLA', 'SG_UF_RESIDENCIA']\n"
     ]
    }
   ],
   "source": [
    "train  = train[corr_list + ['IN_TREINEIRO']]\n",
    "test = test[corr_list]\n",
    "\n",
    "print(f'Train columns {list(train)}', '\\n \\n' ,f'Test columns {list(test)}')"
   ]
  },
  {
   "cell_type": "markdown",
   "metadata": {},
   "source": [
    "## Há valores faltantes?"
   ]
  },
  {
   "cell_type": "code",
   "execution_count": 285,
   "metadata": {},
   "outputs": [
    {
     "data": {
      "text/plain": [
       "TP_ST_CONCLUSAO     0\n",
       "Q027                0\n",
       "TP_PRESENCA_CH      0\n",
       "TP_PRESENCA_CN      0\n",
       "TP_PRESENCA_MT      0\n",
       "TP_PRESENCA_LC      0\n",
       "Q002                0\n",
       "Q001                0\n",
       "Q047                0\n",
       "Q006                0\n",
       "Q024                0\n",
       "NU_IDADE            0\n",
       "Q026                0\n",
       "TP_ANO_CONCLUIU     0\n",
       "TP_ESCOLA           0\n",
       "SG_UF_RESIDENCIA    0\n",
       "IN_TREINEIRO        0\n",
       "dtype: int64"
      ]
     },
     "execution_count": 285,
     "metadata": {},
     "output_type": "execute_result"
    }
   ],
   "source": [
    "train.isnull().sum()"
   ]
  },
  {
   "cell_type": "markdown",
   "metadata": {},
   "source": [
    "### Observa-se que há outliers\n",
    "\n",
    "- Se o modelo  não performar bem, pode-se analisar a retirada"
   ]
  },
  {
   "cell_type": "code",
   "execution_count": 286,
   "metadata": {},
   "outputs": [
    {
     "data": {
      "text/plain": [
       "<matplotlib.axes._subplots.AxesSubplot at 0x7f4b709fab90>"
      ]
     },
     "execution_count": 286,
     "metadata": {},
     "output_type": "execute_result"
    },
    {
     "data": {
      "image/png": "[encoded data removed]",
      "text/plain": [
       "<Figure size 720x576 with 1 Axes>"
      ]
     },
     "metadata": {
      "needs_background": "dark"
     },
     "output_type": "display_data"
    }
   ],
   "source": [
    "plt.figure(figsize = (10,8))\n",
    "train.boxplot()"
   ]
  },
  {
   "cell_type": "markdown",
   "metadata": {},
   "source": [
    "### Os dados estão desbalanceados\n",
    "\n",
    "- Se o modelo não performar bem, pode-se utilizar SMOTE"
   ]
  },
  {
   "cell_type": "code",
   "execution_count": 287,
   "metadata": {},
   "outputs": [
    {
     "data": {
      "text/plain": [
       "0.0    11947\n",
       "1.0     1783\n",
       "Name: IN_TREINEIRO, dtype: int64"
      ]
     },
     "execution_count": 287,
     "metadata": {},
     "output_type": "execute_result"
    }
   ],
   "source": [
    "train.IN_TREINEIRO.value_counts()"
   ]
  },
  {
   "cell_type": "markdown",
   "metadata": {},
   "source": [
    "### Separação dos dados entre treinaamento e validação"
   ]
  },
  {
   "cell_type": "code",
   "execution_count": 291,
   "metadata": {},
   "outputs": [],
   "source": [
    "X = train.drop('IN_TREINEIRO', axis = 1)\n",
    "y = train['IN_TREINEIRO']\n",
    "\n",
    "from sklearn.model_selection import train_test_split\n",
    "X_train, X_test, y_train, y_test = train_test_split(X, y, \n",
    "                                                    test_size = 0.3, \n",
    "                                                    random_state = 42)"
   ]
  },
  {
   "cell_type": "code",
   "execution_count": 292,
   "metadata": {},
   "outputs": [
    {
     "data": {
      "text/plain": [
       "RandomForestClassifier(bootstrap=True, ccp_alpha=0.0, class_weight=None,\n",
       "                       criterion='entropy', max_depth=None, max_features='auto',\n",
       "                       max_leaf_nodes=None, max_samples=None,\n",
       "                       min_impurity_decrease=0.0, min_impurity_split=None,\n",
       "                       min_samples_leaf=1, min_samples_split=2,\n",
       "                       min_weight_fraction_leaf=0.0, n_estimators=200,\n",
       "                       n_jobs=None, oob_score=False, random_state=42, verbose=0,\n",
       "                       warm_start=False)"
      ]
     },
     "execution_count": 292,
     "metadata": {},
     "output_type": "execute_result"
    }
   ],
   "source": [
    "from sklearn.ensemble import RandomForestClassifier\n",
    "\n",
    "model =  RandomForestClassifier(n_estimators=200,\n",
    "                                criterion = 'entropy',\n",
    "                                   random_state=42)\n",
    "\n",
    "model.fit(X_train, y_train)\n"
   ]
  },
  {
   "cell_type": "markdown",
   "metadata": {},
   "source": [
    "### Predição com métricas de performance do modelo"
   ]
  },
  {
   "cell_type": "code",
   "execution_count": 293,
   "metadata": {},
   "outputs": [
    {
     "name": "stdout",
     "output_type": "stream",
     "text": [
      "Matriz de confusão \n",
      ": [[3576    1]\n",
      " [  12  530]] \n",
      " \n",
      " Acurácia do modelo sobre os dados de validação  0.9968438941490653\n"
     ]
    }
   ],
   "source": [
    "predicao = model.predict(X_test)\n",
    "\n",
    "from sklearn.metrics import confusion_matrix, accuracy_score\n",
    "\n",
    "matriz = confusion_matrix(y_test, predicao); matriz\n",
    "\n",
    "acuracia = accuracy_score(y_test, predicao); acuracia\n",
    "\n",
    "print('Matriz de confusão \\n:', matriz, '\\n \\n Acurácia do modelo sobre os dados de validação ',acuracia)"
   ]
  },
  {
   "cell_type": "markdown",
   "metadata": {},
   "source": [
    "### Previsão para os dados submission:"
   ]
  },
  {
   "cell_type": "code",
   "execution_count": 294,
   "metadata": {},
   "outputs": [],
   "source": [
    "submission_predict = model.predict(test)"
   ]
  },
  {
   "cell_type": "code",
   "execution_count": 245,
   "metadata": {},
   "outputs": [],
   "source": [
    "test = pd.read_csv('test.csv')\n",
    "\n",
    "new_df = np.array(list(zip(test.NU_INSCRICAO.values, submission_predict)))\n",
    "\n",
    "df_answer = pd.DataFrame(new_df, \n",
    "                         columns = ['NU_INSCRICAO','IN_TREINEIRO'])\n",
    "\n",
    "df_answer.to_csv('answer.csv', sep = ',', index = False)"
   ]
  }
 ],
 "metadata": {
  "colab": {
   "collapsed_sections": [],
   "name": "DesafioAtual_v3.ipynb",
   "provenance": []
  },
  "kernelspec": {
   "display_name": "Python 3",
   "language": "python",
   "name": "python3"
  },
  "language_info": {
   "codemirror_mode": {
    "name": "ipython",
    "version": 3
   },
   "file_extension": ".py",
   "mimetype": "text/x-python",
   "name": "python",
   "nbconvert_exporter": "python",
   "pygments_lexer": "ipython3",
   "version": "3.7.6"
  }
 },
 "nbformat": 4,
 "nbformat_minor": 1
}
